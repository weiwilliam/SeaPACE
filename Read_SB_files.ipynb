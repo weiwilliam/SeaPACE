{
 "cells": [
  {
   "cell_type": "markdown",
   "id": "9fb6c6e8-cc32-4736-815e-8aa7d8277957",
   "metadata": {},
   "source": [
    "### Reading in SeaBASS (.sb) Datafiles\n",
    "\n",
    "##### Ceridwyn Hunter - 2025/08/04\n",
    "_____________________________________________________"
   ]
  },
  {
   "cell_type": "code",
   "execution_count": 13,
   "id": "6f42a968-b6fb-424b-88ce-9971abce8d0c",
   "metadata": {},
   "outputs": [
    {
     "name": "stdout",
     "output_type": "stream",
     "text": [
      "Requirement already satisfied: plotly in /srv/conda/envs/notebook/lib/python3.11/site-packages (6.2.0)\n",
      "Requirement already satisfied: narwhals>=1.15.1 in /srv/conda/envs/notebook/lib/python3.11/site-packages (from plotly) (1.48.0)\n",
      "Requirement already satisfied: packaging in /srv/conda/envs/notebook/lib/python3.11/site-packages (from plotly) (24.2)\n",
      "Note: you may need to restart the kernel to use updated packages.\n"
     ]
    }
   ],
   "source": [
    "%pip install plotly"
   ]
  },
  {
   "cell_type": "code",
   "execution_count": 1,
   "id": "0086677a-d43e-4f62-8b2e-dfced48c4e3f",
   "metadata": {},
   "outputs": [],
   "source": [
    "# Imports\n",
    "\n",
    "import re\n",
    "import pandas as pd\n",
    "import xarray as xr\n",
    "from io import StringIO\n",
    "from pathlib import Path\n",
    "from datetime import datetime\n",
    "import plotly.express as px"
   ]
  },
  {
   "cell_type": "code",
   "execution_count": 2,
   "id": "9ad8e78f-bb5d-4be9-8fb2-8610714493ba",
   "metadata": {},
   "outputs": [],
   "source": [
    "# ─── 1) DEFINE SB_PARSER ───────────────────────────────────────────────────────\n",
    "\n",
    "def parse_sb(file_path):\n",
    "    text = Path(file_path).read_text()\n",
    "    header, body = text.split('/end_header', 1)\n",
    "\n",
    "    # 1a) extract header entries\n",
    "    metadata = {}\n",
    "    for line in header.splitlines():\n",
    "        if not line.startswith('/'): \n",
    "            continue\n",
    "        if '=' not in line:    \n",
    "            continue\n",
    "        key, val = line[1:].split('=', 1)\n",
    "        key, val = key.strip(), re.sub(r'\\[.*?\\]', '', val).strip()\n",
    "        if key in {\n",
    "            'station','data_file_name',\n",
    "            'start_date','end_date',\n",
    "            'start_time','end_time',\n",
    "            'fields',\n",
    "            'north_latitude','south_latitude',\n",
    "            'west_longitude','east_longitude'\n",
    "        }:\n",
    "            metadata[key] = val\n",
    "\n",
    "    # 1b) parse the /fields list & store it\n",
    "    fields_list = [f.strip() for f in metadata['fields'].split(',')]\n",
    "    metadata['fields_list'] = fields_list\n",
    "\n",
    "    # 1c) read the body into a DataFrame\n",
    "    df = pd.read_csv(\n",
    "        StringIO(body.strip()),\n",
    "        sep=',',\n",
    "        names=fields_list,\n",
    "        comment='/'\n",
    "    )\n",
    "\n",
    "    # 1d) detect single‐spectrum files & fill lat/lon if missing\n",
    "    is_spectrum = ('lat' not in df.columns or 'lon' not in df.columns)\n",
    "    metadata['single_spectrum'] = is_spectrum\n",
    "    if is_spectrum:\n",
    "        lat0 = float(metadata.get('north_latitude', metadata.get('south_latitude', 0)))\n",
    "        lon0 = float(metadata.get('west_longitude',  metadata.get('east_longitude',  0)))\n",
    "        df['lat'], df['lon'] = lat0, lon0\n",
    "\n",
    "    # 1e) ensure date/time exist\n",
    "    if 'date' not in df.columns:\n",
    "        df['date'] = metadata['start_date']\n",
    "    if 'time' not in df.columns:\n",
    "        df['time'] = metadata['start_time']\n",
    "\n",
    "    # 1f) build datetime column\n",
    "    df['datetime'] = pd.to_datetime(df['date'].astype(str) + ' ' + df['time'])\n",
    "\n",
    "    # 1g) parse header start/end datetimes\n",
    "    def _pd(d, t):\n",
    "        t_clean = re.sub(r'\\[.*?\\]', '', t)\n",
    "        dfmt = '%Y-%m-%d' if '-' in d else '%Y%m%d'\n",
    "        return datetime.strptime(f\"{d} {t_clean}\", f\"{dfmt} %H:%M:%S\")\n",
    "    metadata['start_datetime'] = _pd(metadata['start_date'], metadata['start_time'])\n",
    "    metadata['end_datetime']   = _pd(metadata['end_date'],   metadata['end_time'])\n",
    "\n",
    "    # 1h) keep only the five columns you care about\n",
    "    df = df[['date','time','lat','lon' '','datetime']]\n",
    "\n",
    "    return metadata, df\n"
   ]
  },
  {
   "cell_type": "code",
   "execution_count": 3,
   "id": "9c70504b-5b8b-4250-b76f-3c173cfe4f4c",
   "metadata": {},
   "outputs": [],
   "source": [
    "# ─── 2.a) COLLECT & PREPARE ALL FILES ──────────────────────────────────────────\n",
    "\n",
    "root = Path(\"/home/jovyan/shared-public/pace-hackweek/SeePACE/Hackweek_PACE-PAX_09_22-28\")\n",
    "metadata_list = []\n",
    "search_types = ['Rrs', 'AOP'] #  Add additional search parameters if desired ***********************\n",
    "\n",
    "for sb in root.rglob('*.sb'):\n",
    "    meta, df = parse_sb(sb)\n",
    "\n",
    "    # collapse spectral files to exactly one row\n",
    "    if meta['single_spectrum']:\n",
    "        df = df.head(1)\n",
    "\n",
    "    meta['data'] = df\n",
    "    # detect which of your search_types appear in the original fields\n",
    "    meta['Data_Type'] = [\n",
    "        t for t in search_types\n",
    "        if any(t in f for f in meta['fields_list'])\n",
    "    ]\n",
    "    metadata_list.append(meta)\n"
   ]
  },
  {
   "cell_type": "code",
   "execution_count": 4,
   "id": "b826b12a-92c2-4290-a5c8-11f2f1eb3b52",
   "metadata": {},
   "outputs": [
    {
     "name": "stdout",
     "output_type": "stream",
     "text": [
      "Exists (T/F)  True\n",
      "Is directory (T/F)  True\n",
      "- CCNY\n",
      "- .ipynb_checkpoints\n",
      "- NASA_GSFC\n",
      "- myplot2.html\n",
      "- myplot.html\n",
      "- Interactive Plot Test.ipynb\n",
      "- NRL\n"
     ]
    }
   ],
   "source": [
    "# ─── 2.b) CONFIRM PATH/FILES EXIST ──────────────────────────────────────────\n",
    "\n",
    "# i. Does that directory exist?\n",
    "print(\"Exists (T/F) \", root.exists())\n",
    "print(\"Is directory (T/F) \", root.is_dir())\n",
    "\n",
    "# ii. If it does, list the first few entries to check\n",
    "if root.exists() and root.is_dir():\n",
    "    for i, p in enumerate(root.iterdir()):\n",
    "        print(\"-\", p.name)\n",
    "        if i >= 9:   # only showing the first 10 items\n",
    "            break\n",
    "else:\n",
    "    print(\"Path not found—check your spelling or mount points.\")\n"
   ]
  },
  {
   "cell_type": "code",
   "execution_count": 5,
   "id": "09b1a2e1-4848-413d-a85f-60328370dc1a",
   "metadata": {},
   "outputs": [
    {
     "data": {
      "text/html": [
       "<div>\n",
       "<style scoped>\n",
       "    .dataframe tbody tr th:only-of-type {\n",
       "        vertical-align: middle;\n",
       "    }\n",
       "\n",
       "    .dataframe tbody tr th {\n",
       "        vertical-align: top;\n",
       "    }\n",
       "\n",
       "    .dataframe thead th {\n",
       "        text-align: right;\n",
       "    }\n",
       "</style>\n",
       "<table border=\"1\" class=\"dataframe\">\n",
       "  <thead>\n",
       "    <tr style=\"text-align: right;\">\n",
       "      <th></th>\n",
       "      <th>Station</th>\n",
       "      <th>Data_File_Name</th>\n",
       "      <th>Start_Datetime</th>\n",
       "      <th>End_Datetime</th>\n",
       "      <th>Data_Type</th>\n",
       "    </tr>\n",
       "  </thead>\n",
       "  <tbody>\n",
       "    <tr>\n",
       "      <th>0</th>\n",
       "      <td>30</td>\n",
       "      <td>PACE-PAX_Shearwater_2024_GER_St_30.sb</td>\n",
       "      <td>2024-09-22 19:25:46</td>\n",
       "      <td>2024-09-22 19:25:46</td>\n",
       "      <td>[Rrs]</td>\n",
       "    </tr>\n",
       "    <tr>\n",
       "      <th>1</th>\n",
       "      <td>31</td>\n",
       "      <td>PACE-PAX_Shearwater_2024_GER_St_31.sb</td>\n",
       "      <td>2024-09-22 20:34:41</td>\n",
       "      <td>2024-09-22 20:34:41</td>\n",
       "      <td>[Rrs]</td>\n",
       "    </tr>\n",
       "    <tr>\n",
       "      <th>2</th>\n",
       "      <td>32</td>\n",
       "      <td>PACE-PAX_Shearwater_2024_GER_St_32.sb</td>\n",
       "      <td>2024-09-23 18:05:43</td>\n",
       "      <td>2024-09-23 18:05:43</td>\n",
       "      <td>[Rrs]</td>\n",
       "    </tr>\n",
       "    <tr>\n",
       "      <th>3</th>\n",
       "      <td>33</td>\n",
       "      <td>PACE-PAX_Shearwater_2024_GER_St_33.sb</td>\n",
       "      <td>2024-09-23 20:08:33</td>\n",
       "      <td>2024-09-23 20:08:33</td>\n",
       "      <td>[Rrs]</td>\n",
       "    </tr>\n",
       "    <tr>\n",
       "      <th>4</th>\n",
       "      <td>34</td>\n",
       "      <td>PACE-PAX_Shearwater_2024_GER_St_34.sb</td>\n",
       "      <td>2024-09-25 19:36:20</td>\n",
       "      <td>2024-09-25 19:36:20</td>\n",
       "      <td>[Rrs]</td>\n",
       "    </tr>\n",
       "    <tr>\n",
       "      <th>...</th>\n",
       "      <td>...</td>\n",
       "      <td>...</td>\n",
       "      <td>...</td>\n",
       "      <td>...</td>\n",
       "      <td>...</td>\n",
       "    </tr>\n",
       "    <tr>\n",
       "      <th>67</th>\n",
       "      <td>36</td>\n",
       "      <td>PVST_POL_PACE-PAX_Shearwater_above_water_radio...</td>\n",
       "      <td>2024-09-25 21:56:00</td>\n",
       "      <td>2024-09-25 21:58:00</td>\n",
       "      <td>[Rrs]</td>\n",
       "    </tr>\n",
       "    <tr>\n",
       "      <th>68</th>\n",
       "      <td>37</td>\n",
       "      <td>PVST_POL_PACE-PAX_Shearwater_above_water_radio...</td>\n",
       "      <td>2024-09-25 23:07:00</td>\n",
       "      <td>2024-09-25 23:09:00</td>\n",
       "      <td>[Rrs]</td>\n",
       "    </tr>\n",
       "    <tr>\n",
       "      <th>69</th>\n",
       "      <td>38</td>\n",
       "      <td>PVST_POL_PACE-PAX_Shearwater_above_water_radio...</td>\n",
       "      <td>2024-09-26 17:06:00</td>\n",
       "      <td>2024-09-26 17:08:00</td>\n",
       "      <td>[Rrs]</td>\n",
       "    </tr>\n",
       "    <tr>\n",
       "      <th>70</th>\n",
       "      <td>39</td>\n",
       "      <td>PVST_POL_PACE-PAX_Shearwater_above_water_radio...</td>\n",
       "      <td>2024-09-26 19:37:00</td>\n",
       "      <td>2024-09-26 19:39:00</td>\n",
       "      <td>[Rrs]</td>\n",
       "    </tr>\n",
       "    <tr>\n",
       "      <th>71</th>\n",
       "      <td>40</td>\n",
       "      <td>PVST_POL_PACE-PAX_Shearwater_above_water_radio...</td>\n",
       "      <td>2024-09-26 20:22:00</td>\n",
       "      <td>2024-09-26 20:24:00</td>\n",
       "      <td>[Rrs]</td>\n",
       "    </tr>\n",
       "  </tbody>\n",
       "</table>\n",
       "<p>72 rows × 5 columns</p>\n",
       "</div>"
      ],
      "text/plain": [
       "   Station                                     Data_File_Name  \\\n",
       "0       30              PACE-PAX_Shearwater_2024_GER_St_30.sb   \n",
       "1       31              PACE-PAX_Shearwater_2024_GER_St_31.sb   \n",
       "2       32              PACE-PAX_Shearwater_2024_GER_St_32.sb   \n",
       "3       33              PACE-PAX_Shearwater_2024_GER_St_33.sb   \n",
       "4       34              PACE-PAX_Shearwater_2024_GER_St_34.sb   \n",
       "..     ...                                                ...   \n",
       "67      36  PVST_POL_PACE-PAX_Shearwater_above_water_radio...   \n",
       "68      37  PVST_POL_PACE-PAX_Shearwater_above_water_radio...   \n",
       "69      38  PVST_POL_PACE-PAX_Shearwater_above_water_radio...   \n",
       "70      39  PVST_POL_PACE-PAX_Shearwater_above_water_radio...   \n",
       "71      40  PVST_POL_PACE-PAX_Shearwater_above_water_radio...   \n",
       "\n",
       "        Start_Datetime        End_Datetime Data_Type  \n",
       "0  2024-09-22 19:25:46 2024-09-22 19:25:46     [Rrs]  \n",
       "1  2024-09-22 20:34:41 2024-09-22 20:34:41     [Rrs]  \n",
       "2  2024-09-23 18:05:43 2024-09-23 18:05:43     [Rrs]  \n",
       "3  2024-09-23 20:08:33 2024-09-23 20:08:33     [Rrs]  \n",
       "4  2024-09-25 19:36:20 2024-09-25 19:36:20     [Rrs]  \n",
       "..                 ...                 ...       ...  \n",
       "67 2024-09-25 21:56:00 2024-09-25 21:58:00     [Rrs]  \n",
       "68 2024-09-25 23:07:00 2024-09-25 23:09:00     [Rrs]  \n",
       "69 2024-09-26 17:06:00 2024-09-26 17:08:00     [Rrs]  \n",
       "70 2024-09-26 19:37:00 2024-09-26 19:39:00     [Rrs]  \n",
       "71 2024-09-26 20:22:00 2024-09-26 20:24:00     [Rrs]  \n",
       "\n",
       "[72 rows x 5 columns]"
      ]
     },
     "metadata": {},
     "output_type": "display_data"
    }
   ],
   "source": [
    "# ─── 3) BUILD SUMMARY DATAFRAME ─────────────────────────────────────────────\n",
    "\n",
    "summary_df = pd.DataFrame([{\n",
    "    'Station':        m['station'],\n",
    "    'Data_File_Name': m['data_file_name'],\n",
    "    'Start_Datetime': m['start_datetime'],\n",
    "    'End_Datetime':   m['end_datetime'],\n",
    "    'Data_Type':      m['Data_Type']\n",
    "} for m in metadata_list])\n",
    "\n",
    "display(summary_df)\n"
   ]
  },
  {
   "cell_type": "code",
   "execution_count": 6,
   "id": "ed2cdd4e-c8de-4ae6-9acf-b4cb424ae085",
   "metadata": {},
   "outputs": [
    {
     "name": "stdout",
     "output_type": "stream",
     "text": [
      "<xarray.Dataset> Size: 18kB\n",
      "Dimensions:   (file: 72, record: 10)\n",
      "Coordinates:\n",
      "  * record    (record) int64 80B 0 1 2 3 4 5 6 7 8 9\n",
      "  * file      (file) object 576B 'PACE-PAX_Shearwater_2024_GER_St_30.sb' ... ...\n",
      "Data variables:\n",
      "    lat       (file, record) float64 6kB 33.68 nan nan nan ... nan nan nan nan\n",
      "    lon       (file, record) float64 6kB -119.6 nan nan nan ... nan nan nan nan\n",
      "    datetime  (file, record) datetime64[ns] 6kB 2024-09-22T19:25:46 NaT ... NaT\n"
     ]
    }
   ],
   "source": [
    "# ─── 4) BUILD & CONCATENATE XR DATASETS ─────────────────────────────────────\n",
    "\n",
    "ds_list    = []\n",
    "file_names = []\n",
    "\n",
    "for m in metadata_list:\n",
    "    df = m['data'].reset_index(drop=True).reset_index().rename(columns={'index':'record'})\n",
    "    ds = xr.Dataset(\n",
    "        {\n",
    "            'lat':      ('record', df['lat']),\n",
    "            'lon':      ('record', df['lon']),\n",
    "            'datetime': ('record', df['datetime'])\n",
    "        },\n",
    "        coords={'record': df['record']}\n",
    "    )\n",
    "    # promote to a 2-D Dataset along new 'file' dim\n",
    "    ds = ds.expand_dims(file=[m['data_file_name']])\n",
    "    ds_list.append(ds)\n",
    "    file_names.append(m['data_file_name'])\n",
    "\n",
    "ds_combined = xr.concat(\n",
    "    ds_list,\n",
    "    dim='file',\n",
    "    coords='minimal',\n",
    "    compat='override'\n",
    ")\n",
    "\n",
    "print(ds_combined)"
   ]
  },
  {
   "cell_type": "code",
   "execution_count": 7,
   "id": "88405310-b3ce-4e15-b094-64af4d7430e8",
   "metadata": {},
   "outputs": [
    {
     "data": {
      "text/html": [
       "<div>\n",
       "<style scoped>\n",
       "    .dataframe tbody tr th:only-of-type {\n",
       "        vertical-align: middle;\n",
       "    }\n",
       "\n",
       "    .dataframe tbody tr th {\n",
       "        vertical-align: top;\n",
       "    }\n",
       "\n",
       "    .dataframe thead th {\n",
       "        text-align: right;\n",
       "    }\n",
       "</style>\n",
       "<table border=\"1\" class=\"dataframe\">\n",
       "  <thead>\n",
       "    <tr style=\"text-align: right;\">\n",
       "      <th></th>\n",
       "      <th>date</th>\n",
       "      <th>time</th>\n",
       "      <th>lat</th>\n",
       "      <th>lon</th>\n",
       "      <th>datetime</th>\n",
       "    </tr>\n",
       "  </thead>\n",
       "  <tbody>\n",
       "    <tr>\n",
       "      <th>0</th>\n",
       "      <td>20240923</td>\n",
       "      <td>19:04:25</td>\n",
       "      <td>34.2272</td>\n",
       "      <td>-119.6012</td>\n",
       "      <td>2024-09-23 19:04:25</td>\n",
       "    </tr>\n",
       "    <tr>\n",
       "      <th>1</th>\n",
       "      <td>20240923</td>\n",
       "      <td>19:08:24</td>\n",
       "      <td>34.2220</td>\n",
       "      <td>-119.5931</td>\n",
       "      <td>2024-09-23 19:08:24</td>\n",
       "    </tr>\n",
       "    <tr>\n",
       "      <th>2</th>\n",
       "      <td>20240923</td>\n",
       "      <td>19:35:02</td>\n",
       "      <td>34.2133</td>\n",
       "      <td>-119.5854</td>\n",
       "      <td>2024-09-23 19:35:02</td>\n",
       "    </tr>\n",
       "    <tr>\n",
       "      <th>3</th>\n",
       "      <td>20240923</td>\n",
       "      <td>19:39:54</td>\n",
       "      <td>34.2128</td>\n",
       "      <td>-119.5864</td>\n",
       "      <td>2024-09-23 19:39:54</td>\n",
       "    </tr>\n",
       "  </tbody>\n",
       "</table>\n",
       "</div>"
      ],
      "text/plain": [
       "       date      time      lat       lon            datetime\n",
       "0  20240923  19:04:25  34.2272 -119.6012 2024-09-23 19:04:25\n",
       "1  20240923  19:08:24  34.2220 -119.5931 2024-09-23 19:08:24\n",
       "2  20240923  19:35:02  34.2133 -119.5854 2024-09-23 19:35:02\n",
       "3  20240923  19:39:54  34.2128 -119.5864 2024-09-23 19:39:54"
      ]
     },
     "metadata": {},
     "output_type": "display_data"
    }
   ],
   "source": [
    "display(metadata_list[30]['data'])"
   ]
  },
  {
   "cell_type": "markdown",
   "id": "e88e2d22-c885-4661-a634-dbd148b87775",
   "metadata": {},
   "source": [
    "_____________________________________________________\n",
    "### Making a quick plot of your SeaBASS datafiles in space\n"
   ]
  },
  {
   "cell_type": "code",
   "execution_count": 12,
   "id": "048b4dcc-9d37-4fe6-9e73-096ca2b95ad3",
   "metadata": {},
   "outputs": [
    {
     "data": {
      "application/vnd.plotly.v1+json": {
       "config": {
        "plotlyServerURL": "https://plot.ly"
       },
       "data": [
        {
         "customdata": [
          [
           "2024-09-22T19:25:46",
           "2024-09-22T19:25:46",
           [
            "Rrs"
           ],
           33.6812,
           -119.5549
          ],
          [
           "2024-09-22T20:34:41",
           "2024-09-22T20:34:41",
           [
            "Rrs"
           ],
           33.6205,
           -119.4627
          ],
          [
           "2024-09-23T18:05:43",
           "2024-09-23T18:05:43",
           [
            "Rrs"
           ],
           34.2948,
           -119.8589
          ],
          [
           "2024-09-23T20:08:33",
           "2024-09-23T20:08:33",
           [
            "Rrs"
           ],
           34.2141,
           -119.5824
          ],
          [
           "2024-09-25T19:36:20",
           "2024-09-25T19:36:20",
           [
            "Rrs"
           ],
           34.1149,
           -119.6825
          ],
          [
           "2024-09-25T20:28:19",
           "2024-09-25T20:28:19",
           [
            "Rrs"
           ],
           34.1033,
           -119.6423
          ],
          [
           "2024-09-25T22:02:19",
           "2024-09-25T22:02:19",
           [
            "Rrs"
           ],
           34.1872,
           -119.6993
          ],
          [
           "2024-09-25T23:07:19",
           "2024-09-25T23:07:19",
           [
            "Rrs"
           ],
           34.3099,
           -119.6848
          ],
          [
           "2024-09-26T17:06:51",
           "2024-09-26T17:06:51",
           [
            "Rrs"
           ],
           34.189,
           -119.6278
          ],
          [
           "2024-09-26T19:37:16",
           "2024-09-26T19:37:16",
           [
            "Rrs"
           ],
           34.2105,
           -119.6287
          ],
          [
           "2024-09-26T20:22:03",
           "2024-09-26T20:22:03",
           [
            "Rrs"
           ],
           34.3406,
           -119.6475
          ],
          [
           "2024-09-22T16:22:40",
           "2024-09-22T16:52:40",
           [
            "Rrs"
           ],
           34.2163,
           -119.598
          ],
          [
           "2024-09-22T16:22:40",
           "2024-09-22T16:52:40",
           [
            "Rrs"
           ],
           34.2163,
           -119.598
          ],
          [
           "2024-09-22T17:33:34",
           "2024-09-22T17:53:29",
           [
            "Rrs"
           ],
           33.8687,
           -119.5241
          ],
          [
           "2024-09-22T17:33:34",
           "2024-09-22T17:53:29",
           [
            "Rrs"
           ],
           33.8687,
           -119.5241
          ],
          [
           "2024-09-22T18:22:20",
           "2024-09-22T18:22:20",
           [
            "Rrs"
           ],
           33.6811,
           -119.5546
          ],
          [
           "2024-09-22T18:22:20",
           "2024-09-22T18:22:20",
           [
            "Rrs"
           ],
           33.6811,
           -119.5546
          ],
          [
           "2024-09-22T21:49:55",
           "2024-09-22T21:55:08",
           [
            "Rrs"
           ],
           33.6564,
           -119.4498
          ],
          [
           "2024-09-22T21:49:55",
           "2024-09-22T21:55:08",
           [
            "Rrs"
           ],
           33.6564,
           -119.4498
          ],
          [
           "2024-09-22T22:08:45",
           "2024-09-22T22:18:33",
           [
            "Rrs"
           ],
           33.7383,
           -119.4624
          ],
          [
           "2024-09-22T22:08:45",
           "2024-09-22T22:18:33",
           [
            "Rrs"
           ],
           33.7383,
           -119.4624
          ],
          [
           "2024-09-22T23:07:20",
           "2024-09-22T23:12:02",
           [
            "Rrs"
           ],
           33.9917,
           -119.484
          ],
          [
           "2024-09-22T23:07:20",
           "2024-09-22T23:12:02",
           [
            "Rrs"
           ],
           33.9917,
           -119.484
          ],
          [
           "2024-09-23T16:46:34",
           "2024-09-23T16:52:15",
           [
            "Rrs"
           ],
           34.294,
           -119.8577
          ],
          [
           "2024-09-23T16:46:34",
           "2024-09-23T16:52:15",
           [
            "Rrs"
           ],
           34.294,
           -119.8577
          ],
          [
           "2024-09-23T17:10:58",
           "2024-09-23T17:34:53",
           [
            "Rrs"
           ],
           34.2966,
           -119.8619
          ],
          [
           "2024-09-23T17:10:58",
           "2024-09-23T17:34:53",
           [
            "Rrs"
           ],
           34.2966,
           -119.8619
          ],
          [
           "2024-09-23T18:18:18",
           "2024-09-23T18:53:08",
           [
            "Rrs"
           ],
           34.3005,
           -119.8448
          ],
          [
           "2024-09-23T18:18:18",
           "2024-09-23T18:53:08",
           [
            "Rrs"
           ],
           34.3005,
           -119.8448
          ],
          [
           "2024-09-23T19:04:25",
           "2024-09-23T19:39:54",
           [
            "Rrs"
           ],
           34.2272,
           -119.6012
          ],
          [
           "2024-09-23T19:04:25",
           "2024-09-23T19:39:54",
           [
            "Rrs"
           ],
           34.2272,
           -119.6012
          ],
          [
           "2024-09-23T20:01:21",
           "2024-09-23T20:54:26",
           [
            "Rrs"
           ],
           34.2126,
           -119.5906
          ],
          [
           "2024-09-23T20:01:21",
           "2024-09-23T20:54:26",
           [
            "Rrs"
           ],
           34.2126,
           -119.5906
          ],
          [
           "2024-09-23T21:11:38",
           "2024-09-23T21:20:05",
           [
            "Rrs"
           ],
           34.4087,
           -119.6866
          ],
          [
           "2024-09-23T21:11:38",
           "2024-09-23T21:20:05",
           [
            "Rrs"
           ],
           34.4087,
           -119.6866
          ],
          [
           "2024-09-25T18:40:03",
           "2024-09-25T18:55:00",
           [
            "Rrs"
           ],
           34.116,
           -119.6847
          ],
          [
           "2024-09-25T18:40:03",
           "2024-09-25T18:45:50",
           [
            "Rrs"
           ],
           34.116,
           -119.6847
          ],
          [
           "2024-09-25T18:40:03",
           "2024-09-25T18:55:00",
           [
            "Rrs"
           ],
           34.116,
           -119.6847
          ],
          [
           "2024-09-25T18:40:03",
           "2024-09-25T18:45:50",
           [
            "Rrs"
           ],
           34.116,
           -119.6847
          ],
          [
           "2024-09-25T19:02:15",
           "2024-09-25T19:51:21",
           [
            "Rrs"
           ],
           34.1135,
           -119.6806
          ],
          [
           "2024-09-25T19:02:15",
           "2024-09-25T19:51:21",
           [
            "Rrs"
           ],
           34.1135,
           -119.6806
          ],
          [
           "2024-09-25T20:07:43",
           "2024-09-25T20:41:36",
           [
            "Rrs"
           ],
           34.1024,
           -119.6412
          ],
          [
           "2024-09-25T20:07:43",
           "2024-09-25T20:41:36",
           [
            "Rrs"
           ],
           34.1024,
           -119.6412
          ],
          [
           "2024-09-25T21:50:41",
           "2024-09-25T21:56:25",
           [
            "Rrs"
           ],
           34.1846,
           -119.6976
          ],
          [
           "2024-09-25T21:50:41",
           "2024-09-25T21:56:25",
           [
            "Rrs"
           ],
           34.1846,
           -119.6976
          ],
          [
           "2024-09-25T22:01:35",
           "2024-09-25T22:01:35",
           [
            "Rrs"
           ],
           34.1895,
           -119.6984
          ],
          [
           "2024-09-25T22:01:35",
           "2024-09-25T22:01:35",
           [
            "Rrs"
           ],
           34.1895,
           -119.6984
          ],
          [
           "2024-09-25T23:11:05",
           "2024-09-25T23:11:05",
           [
            "Rrs"
           ],
           34.3101,
           -119.6846
          ],
          [
           "2024-09-25T23:11:05",
           "2024-09-25T23:11:05",
           [
            "Rrs"
           ],
           34.3101,
           -119.6846
          ],
          [
           "2024-09-26T16:34:37",
           "2024-09-26T16:34:37",
           [
            "Rrs"
           ],
           34.1889,
           -119.6293
          ],
          [
           "2024-09-26T16:34:37",
           "2024-09-26T16:34:37",
           [
            "Rrs"
           ],
           34.1889,
           -119.6293
          ],
          [
           "2024-09-26T17:34:31",
           "2024-09-26T17:34:31",
           [
            "Rrs"
           ],
           34.2056,
           -119.6263
          ],
          [
           "2024-09-26T17:34:31",
           "2024-09-26T17:34:31",
           [
            "Rrs"
           ],
           34.2056,
           -119.6263
          ],
          [
           "2024-09-26T18:10:04",
           "2024-09-26T18:58:19",
           [
            "Rrs"
           ],
           34.2107,
           -119.6304
          ],
          [
           "2024-09-26T18:10:04",
           "2024-09-26T18:58:19",
           [
            "Rrs"
           ],
           34.2107,
           -119.6304
          ],
          [
           "2024-09-26T19:02:47",
           "2024-09-26T19:28:06",
           [
            "Rrs"
           ],
           34.21,
           -119.6259
          ],
          [
           "2024-09-26T19:02:47",
           "2024-09-26T19:28:06",
           [
            "Rrs"
           ],
           34.21,
           -119.6259
          ],
          [
           "2024-09-26T20:16:54",
           "2024-09-26T20:21:04",
           [
            "Rrs"
           ],
           34.3376,
           -119.6487
          ],
          [
           "2024-09-26T20:16:54",
           "2024-09-26T20:21:04",
           [
            "Rrs"
           ],
           34.3376,
           -119.6487
          ],
          [
           "2024-09-26T21:02:53",
           "2024-09-26T21:45:29",
           [
            "Rrs"
           ],
           34.3399,
           -119.6408
          ],
          [
           "2024-09-26T21:02:53",
           "2024-09-26T21:45:29",
           [
            "Rrs"
           ],
           34.3399,
           -119.6408
          ],
          [
           "2024-09-22T19:25:00",
           "2024-09-22T19:27:00",
           [
            "Rrs"
           ],
           33.6812,
           -119.5549
          ],
          [
           "2024-09-22T20:34:00",
           "2024-09-22T20:36:00",
           [
            "Rrs"
           ],
           33.6205,
           -119.4627
          ],
          [
           "2024-09-23T18:05:00",
           "2024-09-23T18:07:00",
           [
            "Rrs"
           ],
           34.2948,
           -119.8589
          ],
          [
           "2024-09-23T20:08:00",
           "2024-09-23T20:10:00",
           [
            "Rrs"
           ],
           34.2141,
           -119.5824
          ],
          [
           "2024-09-25T19:36:00",
           "2024-09-25T19:38:00",
           [
            "Rrs"
           ],
           34.1149,
           -119.6825
          ],
          [
           "2024-09-25T20:28:00",
           "2024-09-25T20:30:00",
           [
            "Rrs"
           ],
           34.1033,
           -119.6423
          ],
          [
           "2024-09-25T21:56:00",
           "2024-09-25T21:58:00",
           [
            "Rrs"
           ],
           34.1872,
           -119.6993
          ],
          [
           "2024-09-25T23:07:00",
           "2024-09-25T23:09:00",
           [
            "Rrs"
           ],
           34.3099,
           -119.6848
          ],
          [
           "2024-09-26T17:06:00",
           "2024-09-26T17:08:00",
           [
            "Rrs"
           ],
           34.189,
           -119.6278
          ],
          [
           "2024-09-26T19:37:00",
           "2024-09-26T19:39:00",
           [
            "Rrs"
           ],
           34.2105,
           -119.6287
          ],
          [
           "2024-09-26T20:22:00",
           "2024-09-26T20:24:00",
           [
            "Rrs"
           ],
           34.3406,
           -119.6475
          ]
         ],
         "geo": "geo",
         "hovertemplate": "<b>%{hovertext}</b><br><br>Start_Datetime=%{customdata[0]}<br>End_Datetime=%{customdata[1]}<br>Data_Type=%{customdata[2]}<extra></extra>",
         "hovertext": [
          "PACE-PAX_Shearwater_2024_GER_St_30.sb",
          "PACE-PAX_Shearwater_2024_GER_St_31.sb",
          "PACE-PAX_Shearwater_2024_GER_St_32.sb",
          "PACE-PAX_Shearwater_2024_GER_St_33.sb",
          "PACE-PAX_Shearwater_2024_GER_St_34.sb",
          "PACE-PAX_Shearwater_2024_GER_St_35.sb",
          "PACE-PAX_Shearwater_2024_GER_St_36.sb",
          "PACE-PAX_Shearwater_2024_GER_St_37.sb",
          "PACE-PAX_Shearwater_2024_GER_St_38.sb",
          "PACE-PAX_Shearwater_2024_GER_St_39.sb",
          "PACE-PAX_Shearwater_2024_GER_St_40.sb",
          "PACE-PAX_PACE_PAX_Shearwater_RV_Shearwater_HyperSAS_20240922_162240_L2_Rrs_L11_R1.sb",
          "PACE-PAX_PACE_PAX_Shearwater_RV_Shearwater_HyperSAS_20240922_162240_L2_Rrs_R1.sb",
          "PACE-PAX_PACE_PAX_Shearwater_RV_Shearwater_HyperSAS_20240922_173334_L2_Rrs_L11_R1.sb",
          "PACE-PAX_PACE_PAX_Shearwater_RV_Shearwater_HyperSAS_20240922_173334_L2_Rrs_R1.sb",
          "PACE-PAX_PACE_PAX_Shearwater_RV_Shearwater_HyperSAS_20240922_182220_L2_Rrs_L11_STATION_30_0_R1.sb",
          "PACE-PAX_PACE_PAX_Shearwater_RV_Shearwater_HyperSAS_20240922_182220_L2_Rrs_STATION_30_0_R1.sb",
          "PACE-PAX_PACE_PAX_Shearwater_RV_Shearwater_HyperSAS_20240922_214955_L2_Rrs_L11_R1.sb",
          "PACE-PAX_PACE_PAX_Shearwater_RV_Shearwater_HyperSAS_20240922_214955_L2_Rrs_R1.sb",
          "PACE-PAX_PACE_PAX_Shearwater_RV_Shearwater_HyperSAS_20240922_220845_L2_Rrs_L11_R1.sb",
          "PACE-PAX_PACE_PAX_Shearwater_RV_Shearwater_HyperSAS_20240922_220845_L2_Rrs_R1.sb",
          "PACE-PAX_PACE_PAX_Shearwater_RV_Shearwater_HyperSAS_20240922_230720_L2_Rrs_L11_R1.sb",
          "PACE-PAX_PACE_PAX_Shearwater_RV_Shearwater_HyperSAS_20240922_230720_L2_Rrs_R1.sb",
          "PACE-PAX_PACE_PAX_Shearwater_RV_Shearwater_HyperSAS_20240923_164634_L2_Rrs_L11_STATION_32_0_R1.sb",
          "PACE-PAX_PACE_PAX_Shearwater_RV_Shearwater_HyperSAS_20240923_164634_L2_Rrs_STATION_32_0_R1.sb",
          "PACE-PAX_PACE_PAX_Shearwater_RV_Shearwater_HyperSAS_20240923_171058_L2_Rrs_L11_R1.sb",
          "PACE-PAX_PACE_PAX_Shearwater_RV_Shearwater_HyperSAS_20240923_171058_L2_Rrs_R1.sb",
          "PACE-PAX_PACE_PAX_Shearwater_RV_Shearwater_HyperSAS_20240923_181818_L2_Rrs_L11_R1.sb",
          "PACE-PAX_PACE_PAX_Shearwater_RV_Shearwater_HyperSAS_20240923_181818_L2_Rrs_R1.sb",
          "PACE-PAX_PACE_PAX_Shearwater_RV_Shearwater_HyperSAS_20240923_190425_L2_Rrs_L11_R1.sb",
          "PACE-PAX_PACE_PAX_Shearwater_RV_Shearwater_HyperSAS_20240923_190425_L2_Rrs_R1.sb",
          "PACE-PAX_PACE_PAX_Shearwater_RV_Shearwater_HyperSAS_20240923_200121_L2_Rrs_L11_R1.sb",
          "PACE-PAX_PACE_PAX_Shearwater_RV_Shearwater_HyperSAS_20240923_200121_L2_Rrs_R1.sb",
          "PACE-PAX_PACE_PAX_Shearwater_RV_Shearwater_HyperSAS_20240923_211138_L2_Rrs_L11_R1.sb",
          "PACE-PAX_PACE_PAX_Shearwater_RV_Shearwater_HyperSAS_20240923_211138_L2_Rrs_R1.sb",
          "PACE-PAX_PACE_PAX_Shearwater_RV_Shearwater_HyperSAS_20240925_184003_L2_Rrs_L11_R1.sb",
          "PACE-PAX_PACE_PAX_Shearwater_RV_Shearwater_HyperSAS_20240925_184003_L2_Rrs_L11_STATION_34_0_R1.sb",
          "PACE-PAX_PACE_PAX_Shearwater_RV_Shearwater_HyperSAS_20240925_184003_L2_Rrs_R1.sb",
          "PACE-PAX_PACE_PAX_Shearwater_RV_Shearwater_HyperSAS_20240925_184003_L2_Rrs_STATION_34_0_R1.sb",
          "PACE-PAX_PACE_PAX_Shearwater_RV_Shearwater_HyperSAS_20240925_190215_L2_Rrs_L11_R1.sb",
          "PACE-PAX_PACE_PAX_Shearwater_RV_Shearwater_HyperSAS_20240925_190215_L2_Rrs_R1.sb",
          "PACE-PAX_PACE_PAX_Shearwater_RV_Shearwater_HyperSAS_20240925_200743_L2_Rrs_L11_R1.sb",
          "PACE-PAX_PACE_PAX_Shearwater_RV_Shearwater_HyperSAS_20240925_200743_L2_Rrs_R1.sb",
          "PACE-PAX_PACE_PAX_Shearwater_RV_Shearwater_HyperSAS_20240925_215041_L2_Rrs_L11_STATION_36_0_R1.sb",
          "PACE-PAX_PACE_PAX_Shearwater_RV_Shearwater_HyperSAS_20240925_215041_L2_Rrs_STATION_36_0_R1.sb",
          "PACE-PAX_PACE_PAX_Shearwater_RV_Shearwater_HyperSAS_20240925_220135_L2_Rrs_L11_STATION_36_0_R1.sb",
          "PACE-PAX_PACE_PAX_Shearwater_RV_Shearwater_HyperSAS_20240925_220135_L2_Rrs_STATION_36_0_R1.sb",
          "PACE-PAX_PACE_PAX_Shearwater_RV_Shearwater_HyperSAS_20240925_231105_L2_Rrs_L11_STATION_37_0_R1.sb",
          "PACE-PAX_PACE_PAX_Shearwater_RV_Shearwater_HyperSAS_20240925_231105_L2_Rrs_STATION_37_0_R1.sb",
          "PACE-PAX_PACE_PAX_Shearwater_RV_Shearwater_HyperSAS_20240926_163437_L2_Rrs_L11_STATION_38_0_R1.sb",
          "PACE-PAX_PACE_PAX_Shearwater_RV_Shearwater_HyperSAS_20240926_163437_L2_Rrs_STATION_38_0_R1.sb",
          "PACE-PAX_PACE_PAX_Shearwater_RV_Shearwater_HyperSAS_20240926_173431_L2_Rrs_L11_STATION_39_0_R1.sb",
          "PACE-PAX_PACE_PAX_Shearwater_RV_Shearwater_HyperSAS_20240926_173431_L2_Rrs_STATION_39_0_R1.sb",
          "PACE-PAX_PACE_PAX_Shearwater_RV_Shearwater_HyperSAS_20240926_181004_L2_Rrs_L11_R1.sb",
          "PACE-PAX_PACE_PAX_Shearwater_RV_Shearwater_HyperSAS_20240926_181004_L2_Rrs_R1.sb",
          "PACE-PAX_PACE_PAX_Shearwater_RV_Shearwater_HyperSAS_20240926_190247_L2_Rrs_L11_R1.sb",
          "PACE-PAX_PACE_PAX_Shearwater_RV_Shearwater_HyperSAS_20240926_190247_L2_Rrs_R1.sb",
          "PACE-PAX_PACE_PAX_Shearwater_RV_Shearwater_HyperSAS_20240926_201654_L2_Rrs_L11_STATION_40_0_R1.sb",
          "PACE-PAX_PACE_PAX_Shearwater_RV_Shearwater_HyperSAS_20240926_201654_L2_Rrs_STATION_40_0_R1.sb",
          "PACE-PAX_PACE_PAX_Shearwater_RV_Shearwater_HyperSAS_20240926_210253_L2_Rrs_L11_R1.sb",
          "PACE-PAX_PACE_PAX_Shearwater_RV_Shearwater_HyperSAS_20240926_210253_L2_Rrs_R1.sb",
          "PVST_POL_PACE-PAX_Shearwater_above_water_radiometry_nflh_NRL_20240922_St_30_R1.sb",
          "PVST_POL_PACE-PAX_Shearwater_above_water_radiometry_nflh_NRL_20240922_St_31_R1.sb",
          "PVST_POL_PACE-PAX_Shearwater_above_water_radiometry_nflh_NRL_20240923_St_32_R1.sb",
          "PVST_POL_PACE-PAX_Shearwater_above_water_radiometry_nflh_NRL_20240923_St_33_R1.sb",
          "PVST_POL_PACE-PAX_Shearwater_above_water_radiometry_nflh_NRL_20240925_St_34_R1.sb",
          "PVST_POL_PACE-PAX_Shearwater_above_water_radiometry_nflh_NRL_20240925_St_35_R1.sb",
          "PVST_POL_PACE-PAX_Shearwater_above_water_radiometry_nflh_NRL_20240925_St_36_R1.sb",
          "PVST_POL_PACE-PAX_Shearwater_above_water_radiometry_nflh_NRL_20240925_St_37_R1.sb",
          "PVST_POL_PACE-PAX_Shearwater_above_water_radiometry_nflh_NRL_20240926_St_38_R1.sb",
          "PVST_POL_PACE-PAX_Shearwater_above_water_radiometry_nflh_NRL_20240926_St_39_R1.sb",
          "PVST_POL_PACE-PAX_Shearwater_above_water_radiometry_nflh_NRL_20240926_St_40_R1.sb"
         ],
         "lat": {
          "bdata": "gQTFjzHXQECBlUOLbM9AQC9uowG8JUFAbAn5oGcbQUC7Jw8LtQ5BQKHWNO84DUFA1edqK/YXQUDkg57NqidBQNV46SYxGEFAbef7qfEaQUBBguLHmCtBQPkP6bevG0FA+Q/pt68bQUCBBMWPMe9AQIEExY8x70BAHqfoSC7XQEAep+hILtdAQBWMSuoE1EBAFYxK6gTUQECDUUmdgN5AQINRSZ2A3kBAu7iNBvD+QEC7uI0G8P5AQBKDwMqhJUFAEoPAyqElQUAu/yH99iVBQC7/If32JUFAWDm0yHYmQUBYObTIdiZBQFvTvOMUHUFAW9O84xQdQUCXkA96NhtBQJeQD3o2G0FAB/AWSFA0QUAH8BZIUDRBQAIrhxbZDkFAAiuHFtkOQUACK4cW2Q5BQAIrhxbZDkFASgwCK4cOQUBKDAIrhw5BQCKOdXEbDUFAIo51cRsNQUC6awn5oBdBQLprCfmgF0FAx0s3iUEYQUDHSzeJQRhBQKs+V1uxJ0FAqz5XW7EnQUBxGw3gLRhBQHEbDeAtGEFAXwfOGVEaQUBfB84ZURpBQDSitDf4GkFANKK0N/gaQUB7FK5H4RpBQHsUrkfhGkFAl5APejYrQUCXkA96NitBQIj029eBK0FAiPTb14ErQUCBBMWPMddAQIGVQ4tsz0BAL26jAbwlQUBsCfmgZxtBQLsnDwu1DkFAodY07zgNQUDV52or9hdBQOSDns2qJ0FA1XjpJjEYQUBt5/up8RpBQEGC4seYK0FA",
          "dtype": "f8"
         },
         "legendgroup": "",
         "lon": {
          "bdata": "OiNKe4PjXcD99nXgnN1dwDSitDf49l3AMEymCkblXcBI4XoUrutdwCKOdXEb6V3A8IXJVMHsXcBAE2HD0+tdwHEbDeAt6F3Asb/snjzoXcA9CtejcOldwIPAyqFF5l3Ag8DKoUXmXcBa9bnaiuFdwFr1udqK4V3AJJf/kH7jXcAkl/+QfuNdwGlv8IXJ3F3AaW/whcncXcDoaiv2l91dwOhqK/aX3V3A5dAi2/neXcDl0CLb+d5dwN5xio7k9l3A3nGKjuT2XcAJG55eKfddwAkbnl4p913AS+oENBH2XcBL6gQ0EfZdwLyWkA965l3AvJaQD3rmXcAgQfFjzOVdwCBB8WPM5V3AwFsgQfHrXcDAWyBB8etdwI/k8h/S613Aj+TyH9LrXcCP5PIf0utdwI/k8h/S613AFmpN847rXcAWak3zjutdwH6MuWsJ6V3Afoy5awnpXcAibHh6pexdwCJseHql7F3AseHplbLsXcCx4emVsuxdwN21hHzQ613A3bWEfNDrXcDc14FzRuhdwNzXgXNG6F3AB1+YTBXoXcAHX5hMFehdwH/ZPXlY6F3Af9k9eVjoXcBApN++DuhdwECk374O6F3AkzoBTYTpXcCTOgFNhOldwLfRAN4C6V3At9EA3gLpXcA6I0p7g+NdwP32deCc3V3ANKK0N/j2XcAwTKYKRuVdwEjhehSu613AIo51cRvpXcDwhclUwexdwEATYcPT613AcRsN4C3oXcCxv+yePOhdwD0K16Nw6V3A",
          "dtype": "f8"
         },
         "marker": {
          "color": "#636efa",
          "symbol": "circle"
         },
         "mode": "markers",
         "name": "",
         "showlegend": false,
         "type": "scattergeo"
        }
       ],
       "layout": {
        "geo": {
         "center": {},
         "domain": {
          "x": [
           0,
           1
          ],
          "y": [
           0,
           1
          ]
         },
         "landcolor": "LightGreen",
         "lataxis": {
          "range": [
           33,
           35
          ]
         },
         "lonaxis": {
          "range": [
           -120,
           -118
          ]
         },
         "projection": {
          "type": "natural earth"
         },
         "showcountries": true
        },
        "legend": {
         "tracegroupgap": 0
        },
        "margin": {
         "t": 60
        },
        "template": {
         "data": {
          "bar": [
           {
            "error_x": {
             "color": "#2a3f5f"
            },
            "error_y": {
             "color": "#2a3f5f"
            },
            "marker": {
             "line": {
              "color": "#E5ECF6",
              "width": 0.5
             },
             "pattern": {
              "fillmode": "overlay",
              "size": 10,
              "solidity": 0.2
             }
            },
            "type": "bar"
           }
          ],
          "barpolar": [
           {
            "marker": {
             "line": {
              "color": "#E5ECF6",
              "width": 0.5
             },
             "pattern": {
              "fillmode": "overlay",
              "size": 10,
              "solidity": 0.2
             }
            },
            "type": "barpolar"
           }
          ],
          "carpet": [
           {
            "aaxis": {
             "endlinecolor": "#2a3f5f",
             "gridcolor": "white",
             "linecolor": "white",
             "minorgridcolor": "white",
             "startlinecolor": "#2a3f5f"
            },
            "baxis": {
             "endlinecolor": "#2a3f5f",
             "gridcolor": "white",
             "linecolor": "white",
             "minorgridcolor": "white",
             "startlinecolor": "#2a3f5f"
            },
            "type": "carpet"
           }
          ],
          "choropleth": [
           {
            "colorbar": {
             "outlinewidth": 0,
             "ticks": ""
            },
            "type": "choropleth"
           }
          ],
          "contour": [
           {
            "colorbar": {
             "outlinewidth": 0,
             "ticks": ""
            },
            "colorscale": [
             [
              0,
              "#0d0887"
             ],
             [
              0.1111111111111111,
              "#46039f"
             ],
             [
              0.2222222222222222,
              "#7201a8"
             ],
             [
              0.3333333333333333,
              "#9c179e"
             ],
             [
              0.4444444444444444,
              "#bd3786"
             ],
             [
              0.5555555555555556,
              "#d8576b"
             ],
             [
              0.6666666666666666,
              "#ed7953"
             ],
             [
              0.7777777777777778,
              "#fb9f3a"
             ],
             [
              0.8888888888888888,
              "#fdca26"
             ],
             [
              1,
              "#f0f921"
             ]
            ],
            "type": "contour"
           }
          ],
          "contourcarpet": [
           {
            "colorbar": {
             "outlinewidth": 0,
             "ticks": ""
            },
            "type": "contourcarpet"
           }
          ],
          "heatmap": [
           {
            "colorbar": {
             "outlinewidth": 0,
             "ticks": ""
            },
            "colorscale": [
             [
              0,
              "#0d0887"
             ],
             [
              0.1111111111111111,
              "#46039f"
             ],
             [
              0.2222222222222222,
              "#7201a8"
             ],
             [
              0.3333333333333333,
              "#9c179e"
             ],
             [
              0.4444444444444444,
              "#bd3786"
             ],
             [
              0.5555555555555556,
              "#d8576b"
             ],
             [
              0.6666666666666666,
              "#ed7953"
             ],
             [
              0.7777777777777778,
              "#fb9f3a"
             ],
             [
              0.8888888888888888,
              "#fdca26"
             ],
             [
              1,
              "#f0f921"
             ]
            ],
            "type": "heatmap"
           }
          ],
          "histogram": [
           {
            "marker": {
             "pattern": {
              "fillmode": "overlay",
              "size": 10,
              "solidity": 0.2
             }
            },
            "type": "histogram"
           }
          ],
          "histogram2d": [
           {
            "colorbar": {
             "outlinewidth": 0,
             "ticks": ""
            },
            "colorscale": [
             [
              0,
              "#0d0887"
             ],
             [
              0.1111111111111111,
              "#46039f"
             ],
             [
              0.2222222222222222,
              "#7201a8"
             ],
             [
              0.3333333333333333,
              "#9c179e"
             ],
             [
              0.4444444444444444,
              "#bd3786"
             ],
             [
              0.5555555555555556,
              "#d8576b"
             ],
             [
              0.6666666666666666,
              "#ed7953"
             ],
             [
              0.7777777777777778,
              "#fb9f3a"
             ],
             [
              0.8888888888888888,
              "#fdca26"
             ],
             [
              1,
              "#f0f921"
             ]
            ],
            "type": "histogram2d"
           }
          ],
          "histogram2dcontour": [
           {
            "colorbar": {
             "outlinewidth": 0,
             "ticks": ""
            },
            "colorscale": [
             [
              0,
              "#0d0887"
             ],
             [
              0.1111111111111111,
              "#46039f"
             ],
             [
              0.2222222222222222,
              "#7201a8"
             ],
             [
              0.3333333333333333,
              "#9c179e"
             ],
             [
              0.4444444444444444,
              "#bd3786"
             ],
             [
              0.5555555555555556,
              "#d8576b"
             ],
             [
              0.6666666666666666,
              "#ed7953"
             ],
             [
              0.7777777777777778,
              "#fb9f3a"
             ],
             [
              0.8888888888888888,
              "#fdca26"
             ],
             [
              1,
              "#f0f921"
             ]
            ],
            "type": "histogram2dcontour"
           }
          ],
          "mesh3d": [
           {
            "colorbar": {
             "outlinewidth": 0,
             "ticks": ""
            },
            "type": "mesh3d"
           }
          ],
          "parcoords": [
           {
            "line": {
             "colorbar": {
              "outlinewidth": 0,
              "ticks": ""
             }
            },
            "type": "parcoords"
           }
          ],
          "pie": [
           {
            "automargin": true,
            "type": "pie"
           }
          ],
          "scatter": [
           {
            "fillpattern": {
             "fillmode": "overlay",
             "size": 10,
             "solidity": 0.2
            },
            "type": "scatter"
           }
          ],
          "scatter3d": [
           {
            "line": {
             "colorbar": {
              "outlinewidth": 0,
              "ticks": ""
             }
            },
            "marker": {
             "colorbar": {
              "outlinewidth": 0,
              "ticks": ""
             }
            },
            "type": "scatter3d"
           }
          ],
          "scattercarpet": [
           {
            "marker": {
             "colorbar": {
              "outlinewidth": 0,
              "ticks": ""
             }
            },
            "type": "scattercarpet"
           }
          ],
          "scattergeo": [
           {
            "marker": {
             "colorbar": {
              "outlinewidth": 0,
              "ticks": ""
             }
            },
            "type": "scattergeo"
           }
          ],
          "scattergl": [
           {
            "marker": {
             "colorbar": {
              "outlinewidth": 0,
              "ticks": ""
             }
            },
            "type": "scattergl"
           }
          ],
          "scattermap": [
           {
            "marker": {
             "colorbar": {
              "outlinewidth": 0,
              "ticks": ""
             }
            },
            "type": "scattermap"
           }
          ],
          "scattermapbox": [
           {
            "marker": {
             "colorbar": {
              "outlinewidth": 0,
              "ticks": ""
             }
            },
            "type": "scattermapbox"
           }
          ],
          "scatterpolar": [
           {
            "marker": {
             "colorbar": {
              "outlinewidth": 0,
              "ticks": ""
             }
            },
            "type": "scatterpolar"
           }
          ],
          "scatterpolargl": [
           {
            "marker": {
             "colorbar": {
              "outlinewidth": 0,
              "ticks": ""
             }
            },
            "type": "scatterpolargl"
           }
          ],
          "scatterternary": [
           {
            "marker": {
             "colorbar": {
              "outlinewidth": 0,
              "ticks": ""
             }
            },
            "type": "scatterternary"
           }
          ],
          "surface": [
           {
            "colorbar": {
             "outlinewidth": 0,
             "ticks": ""
            },
            "colorscale": [
             [
              0,
              "#0d0887"
             ],
             [
              0.1111111111111111,
              "#46039f"
             ],
             [
              0.2222222222222222,
              "#7201a8"
             ],
             [
              0.3333333333333333,
              "#9c179e"
             ],
             [
              0.4444444444444444,
              "#bd3786"
             ],
             [
              0.5555555555555556,
              "#d8576b"
             ],
             [
              0.6666666666666666,
              "#ed7953"
             ],
             [
              0.7777777777777778,
              "#fb9f3a"
             ],
             [
              0.8888888888888888,
              "#fdca26"
             ],
             [
              1,
              "#f0f921"
             ]
            ],
            "type": "surface"
           }
          ],
          "table": [
           {
            "cells": {
             "fill": {
              "color": "#EBF0F8"
             },
             "line": {
              "color": "white"
             }
            },
            "header": {
             "fill": {
              "color": "#C8D4E3"
             },
             "line": {
              "color": "white"
             }
            },
            "type": "table"
           }
          ]
         },
         "layout": {
          "annotationdefaults": {
           "arrowcolor": "#2a3f5f",
           "arrowhead": 0,
           "arrowwidth": 1
          },
          "autotypenumbers": "strict",
          "coloraxis": {
           "colorbar": {
            "outlinewidth": 0,
            "ticks": ""
           }
          },
          "colorscale": {
           "diverging": [
            [
             0,
             "#8e0152"
            ],
            [
             0.1,
             "#c51b7d"
            ],
            [
             0.2,
             "#de77ae"
            ],
            [
             0.3,
             "#f1b6da"
            ],
            [
             0.4,
             "#fde0ef"
            ],
            [
             0.5,
             "#f7f7f7"
            ],
            [
             0.6,
             "#e6f5d0"
            ],
            [
             0.7,
             "#b8e186"
            ],
            [
             0.8,
             "#7fbc41"
            ],
            [
             0.9,
             "#4d9221"
            ],
            [
             1,
             "#276419"
            ]
           ],
           "sequential": [
            [
             0,
             "#0d0887"
            ],
            [
             0.1111111111111111,
             "#46039f"
            ],
            [
             0.2222222222222222,
             "#7201a8"
            ],
            [
             0.3333333333333333,
             "#9c179e"
            ],
            [
             0.4444444444444444,
             "#bd3786"
            ],
            [
             0.5555555555555556,
             "#d8576b"
            ],
            [
             0.6666666666666666,
             "#ed7953"
            ],
            [
             0.7777777777777778,
             "#fb9f3a"
            ],
            [
             0.8888888888888888,
             "#fdca26"
            ],
            [
             1,
             "#f0f921"
            ]
           ],
           "sequentialminus": [
            [
             0,
             "#0d0887"
            ],
            [
             0.1111111111111111,
             "#46039f"
            ],
            [
             0.2222222222222222,
             "#7201a8"
            ],
            [
             0.3333333333333333,
             "#9c179e"
            ],
            [
             0.4444444444444444,
             "#bd3786"
            ],
            [
             0.5555555555555556,
             "#d8576b"
            ],
            [
             0.6666666666666666,
             "#ed7953"
            ],
            [
             0.7777777777777778,
             "#fb9f3a"
            ],
            [
             0.8888888888888888,
             "#fdca26"
            ],
            [
             1,
             "#f0f921"
            ]
           ]
          },
          "colorway": [
           "#636efa",
           "#EF553B",
           "#00cc96",
           "#ab63fa",
           "#FFA15A",
           "#19d3f3",
           "#FF6692",
           "#B6E880",
           "#FF97FF",
           "#FECB52"
          ],
          "font": {
           "color": "#2a3f5f"
          },
          "geo": {
           "bgcolor": "white",
           "lakecolor": "white",
           "landcolor": "#E5ECF6",
           "showlakes": true,
           "showland": true,
           "subunitcolor": "white"
          },
          "hoverlabel": {
           "align": "left"
          },
          "hovermode": "closest",
          "mapbox": {
           "style": "light"
          },
          "paper_bgcolor": "white",
          "plot_bgcolor": "#E5ECF6",
          "polar": {
           "angularaxis": {
            "gridcolor": "white",
            "linecolor": "white",
            "ticks": ""
           },
           "bgcolor": "#E5ECF6",
           "radialaxis": {
            "gridcolor": "white",
            "linecolor": "white",
            "ticks": ""
           }
          },
          "scene": {
           "xaxis": {
            "backgroundcolor": "#E5ECF6",
            "gridcolor": "white",
            "gridwidth": 2,
            "linecolor": "white",
            "showbackground": true,
            "ticks": "",
            "zerolinecolor": "white"
           },
           "yaxis": {
            "backgroundcolor": "#E5ECF6",
            "gridcolor": "white",
            "gridwidth": 2,
            "linecolor": "white",
            "showbackground": true,
            "ticks": "",
            "zerolinecolor": "white"
           },
           "zaxis": {
            "backgroundcolor": "#E5ECF6",
            "gridcolor": "white",
            "gridwidth": 2,
            "linecolor": "white",
            "showbackground": true,
            "ticks": "",
            "zerolinecolor": "white"
           }
          },
          "shapedefaults": {
           "line": {
            "color": "#2a3f5f"
           }
          },
          "ternary": {
           "aaxis": {
            "gridcolor": "white",
            "linecolor": "white",
            "ticks": ""
           },
           "baxis": {
            "gridcolor": "white",
            "linecolor": "white",
            "ticks": ""
           },
           "bgcolor": "#E5ECF6",
           "caxis": {
            "gridcolor": "white",
            "linecolor": "white",
            "ticks": ""
           }
          },
          "title": {
           "x": 0.05
          },
          "xaxis": {
           "automargin": true,
           "gridcolor": "white",
           "linecolor": "white",
           "ticks": "",
           "title": {
            "standoff": 15
           },
           "zerolinecolor": "white",
           "zerolinewidth": 2
          },
          "yaxis": {
           "automargin": true,
           "gridcolor": "white",
           "linecolor": "white",
           "ticks": "",
           "title": {
            "standoff": 15
           },
           "zerolinecolor": "white",
           "zerolinewidth": 2
          }
         }
        },
        "title": {
         "text": "Geographical Locations (Zoomed)"
        }
       }
      }
     },
     "metadata": {},
     "output_type": "display_data"
    }
   ],
   "source": [
    "\n",
    "west, east  = -120.0, -118.0\n",
    "south, north =  33.0,   35.0\n",
    "\n",
    "\n",
    "# Add Lat/Lon columns to the summary dataframe\n",
    "summary_df['Lat'] = [m['data']['lat'].iloc[0] for m in metadata_list]\n",
    "summary_df['Lon'] = [m['data']['lon'].iloc[0] for m in metadata_list]\n",
    "\n",
    "# Create interactive geo-scatter plot\n",
    "fig = px.scatter_geo(\n",
    "    summary_df,\n",
    "    lat='Lat',\n",
    "    lon='Lon',\n",
    "    hover_name='Data_File_Name',\n",
    "    hover_data={\n",
    "        'Start_Datetime': True,\n",
    "        'End_Datetime': True,\n",
    "        'Data_Type': True,\n",
    "        'Lat': False,\n",
    "        'Lon': False\n",
    "    },\n",
    "    projection='natural earth'\n",
    ")\n",
    "\n",
    "# zoom to the bbox\n",
    "fig.update_geos(\n",
    "    lonaxis_range=[west, east],\n",
    "    lataxis_range=[south, north],\n",
    "    showcountries=True,      # optional: turn on country outlines\n",
    "    landcolor=\"LightGreen\",  # optional styling\n",
    ")\n",
    "\n",
    "fig.update_layout(title='Geographical Locations (Zoomed)')\n",
    "fig.show()\n"
   ]
  },
  {
   "cell_type": "code",
   "execution_count": 11,
   "id": "baf75469-efec-4156-b6d8-1bb505e27764",
   "metadata": {},
   "outputs": [
    {
     "data": {
      "application/vnd.plotly.v1+json": {
       "config": {
        "plotlyServerURL": "https://plot.ly"
       },
       "data": [
        {
         "customdata": [
          [
           "2024-09-22T19:25:46",
           "2024-09-22T19:25:46",
           [
            "Rrs"
           ],
           33.6812,
           -119.5549
          ],
          [
           "2024-09-22T20:34:41",
           "2024-09-22T20:34:41",
           [
            "Rrs"
           ],
           33.6205,
           -119.4627
          ],
          [
           "2024-09-23T18:05:43",
           "2024-09-23T18:05:43",
           [
            "Rrs"
           ],
           34.2948,
           -119.8589
          ],
          [
           "2024-09-23T20:08:33",
           "2024-09-23T20:08:33",
           [
            "Rrs"
           ],
           34.2141,
           -119.5824
          ],
          [
           "2024-09-25T19:36:20",
           "2024-09-25T19:36:20",
           [
            "Rrs"
           ],
           34.1149,
           -119.6825
          ],
          [
           "2024-09-25T20:28:19",
           "2024-09-25T20:28:19",
           [
            "Rrs"
           ],
           34.1033,
           -119.6423
          ],
          [
           "2024-09-25T22:02:19",
           "2024-09-25T22:02:19",
           [
            "Rrs"
           ],
           34.1872,
           -119.6993
          ],
          [
           "2024-09-25T23:07:19",
           "2024-09-25T23:07:19",
           [
            "Rrs"
           ],
           34.3099,
           -119.6848
          ],
          [
           "2024-09-26T17:06:51",
           "2024-09-26T17:06:51",
           [
            "Rrs"
           ],
           34.189,
           -119.6278
          ],
          [
           "2024-09-26T19:37:16",
           "2024-09-26T19:37:16",
           [
            "Rrs"
           ],
           34.2105,
           -119.6287
          ],
          [
           "2024-09-26T20:22:03",
           "2024-09-26T20:22:03",
           [
            "Rrs"
           ],
           34.3406,
           -119.6475
          ],
          [
           "2024-09-22T16:22:40",
           "2024-09-22T16:52:40",
           [
            "Rrs"
           ],
           34.2163,
           -119.598
          ],
          [
           "2024-09-22T16:22:40",
           "2024-09-22T16:52:40",
           [
            "Rrs"
           ],
           34.2163,
           -119.598
          ],
          [
           "2024-09-22T17:33:34",
           "2024-09-22T17:53:29",
           [
            "Rrs"
           ],
           33.8687,
           -119.5241
          ],
          [
           "2024-09-22T17:33:34",
           "2024-09-22T17:53:29",
           [
            "Rrs"
           ],
           33.8687,
           -119.5241
          ],
          [
           "2024-09-22T18:22:20",
           "2024-09-22T18:22:20",
           [
            "Rrs"
           ],
           33.6811,
           -119.5546
          ],
          [
           "2024-09-22T18:22:20",
           "2024-09-22T18:22:20",
           [
            "Rrs"
           ],
           33.6811,
           -119.5546
          ],
          [
           "2024-09-22T21:49:55",
           "2024-09-22T21:55:08",
           [
            "Rrs"
           ],
           33.6564,
           -119.4498
          ],
          [
           "2024-09-22T21:49:55",
           "2024-09-22T21:55:08",
           [
            "Rrs"
           ],
           33.6564,
           -119.4498
          ],
          [
           "2024-09-22T22:08:45",
           "2024-09-22T22:18:33",
           [
            "Rrs"
           ],
           33.7383,
           -119.4624
          ],
          [
           "2024-09-22T22:08:45",
           "2024-09-22T22:18:33",
           [
            "Rrs"
           ],
           33.7383,
           -119.4624
          ],
          [
           "2024-09-22T23:07:20",
           "2024-09-22T23:12:02",
           [
            "Rrs"
           ],
           33.9917,
           -119.484
          ],
          [
           "2024-09-22T23:07:20",
           "2024-09-22T23:12:02",
           [
            "Rrs"
           ],
           33.9917,
           -119.484
          ],
          [
           "2024-09-23T16:46:34",
           "2024-09-23T16:52:15",
           [
            "Rrs"
           ],
           34.294,
           -119.8577
          ],
          [
           "2024-09-23T16:46:34",
           "2024-09-23T16:52:15",
           [
            "Rrs"
           ],
           34.294,
           -119.8577
          ],
          [
           "2024-09-23T17:10:58",
           "2024-09-23T17:34:53",
           [
            "Rrs"
           ],
           34.2966,
           -119.8619
          ],
          [
           "2024-09-23T17:10:58",
           "2024-09-23T17:34:53",
           [
            "Rrs"
           ],
           34.2966,
           -119.8619
          ],
          [
           "2024-09-23T18:18:18",
           "2024-09-23T18:53:08",
           [
            "Rrs"
           ],
           34.3005,
           -119.8448
          ],
          [
           "2024-09-23T18:18:18",
           "2024-09-23T18:53:08",
           [
            "Rrs"
           ],
           34.3005,
           -119.8448
          ],
          [
           "2024-09-23T19:04:25",
           "2024-09-23T19:39:54",
           [
            "Rrs"
           ],
           34.2272,
           -119.6012
          ],
          [
           "2024-09-23T19:04:25",
           "2024-09-23T19:39:54",
           [
            "Rrs"
           ],
           34.2272,
           -119.6012
          ],
          [
           "2024-09-23T20:01:21",
           "2024-09-23T20:54:26",
           [
            "Rrs"
           ],
           34.2126,
           -119.5906
          ],
          [
           "2024-09-23T20:01:21",
           "2024-09-23T20:54:26",
           [
            "Rrs"
           ],
           34.2126,
           -119.5906
          ],
          [
           "2024-09-23T21:11:38",
           "2024-09-23T21:20:05",
           [
            "Rrs"
           ],
           34.4087,
           -119.6866
          ],
          [
           "2024-09-23T21:11:38",
           "2024-09-23T21:20:05",
           [
            "Rrs"
           ],
           34.4087,
           -119.6866
          ],
          [
           "2024-09-25T18:40:03",
           "2024-09-25T18:55:00",
           [
            "Rrs"
           ],
           34.116,
           -119.6847
          ],
          [
           "2024-09-25T18:40:03",
           "2024-09-25T18:45:50",
           [
            "Rrs"
           ],
           34.116,
           -119.6847
          ],
          [
           "2024-09-25T18:40:03",
           "2024-09-25T18:55:00",
           [
            "Rrs"
           ],
           34.116,
           -119.6847
          ],
          [
           "2024-09-25T18:40:03",
           "2024-09-25T18:45:50",
           [
            "Rrs"
           ],
           34.116,
           -119.6847
          ],
          [
           "2024-09-25T19:02:15",
           "2024-09-25T19:51:21",
           [
            "Rrs"
           ],
           34.1135,
           -119.6806
          ],
          [
           "2024-09-25T19:02:15",
           "2024-09-25T19:51:21",
           [
            "Rrs"
           ],
           34.1135,
           -119.6806
          ],
          [
           "2024-09-25T20:07:43",
           "2024-09-25T20:41:36",
           [
            "Rrs"
           ],
           34.1024,
           -119.6412
          ],
          [
           "2024-09-25T20:07:43",
           "2024-09-25T20:41:36",
           [
            "Rrs"
           ],
           34.1024,
           -119.6412
          ],
          [
           "2024-09-25T21:50:41",
           "2024-09-25T21:56:25",
           [
            "Rrs"
           ],
           34.1846,
           -119.6976
          ],
          [
           "2024-09-25T21:50:41",
           "2024-09-25T21:56:25",
           [
            "Rrs"
           ],
           34.1846,
           -119.6976
          ],
          [
           "2024-09-25T22:01:35",
           "2024-09-25T22:01:35",
           [
            "Rrs"
           ],
           34.1895,
           -119.6984
          ],
          [
           "2024-09-25T22:01:35",
           "2024-09-25T22:01:35",
           [
            "Rrs"
           ],
           34.1895,
           -119.6984
          ],
          [
           "2024-09-25T23:11:05",
           "2024-09-25T23:11:05",
           [
            "Rrs"
           ],
           34.3101,
           -119.6846
          ],
          [
           "2024-09-25T23:11:05",
           "2024-09-25T23:11:05",
           [
            "Rrs"
           ],
           34.3101,
           -119.6846
          ],
          [
           "2024-09-26T16:34:37",
           "2024-09-26T16:34:37",
           [
            "Rrs"
           ],
           34.1889,
           -119.6293
          ],
          [
           "2024-09-26T16:34:37",
           "2024-09-26T16:34:37",
           [
            "Rrs"
           ],
           34.1889,
           -119.6293
          ],
          [
           "2024-09-26T17:34:31",
           "2024-09-26T17:34:31",
           [
            "Rrs"
           ],
           34.2056,
           -119.6263
          ],
          [
           "2024-09-26T17:34:31",
           "2024-09-26T17:34:31",
           [
            "Rrs"
           ],
           34.2056,
           -119.6263
          ],
          [
           "2024-09-26T18:10:04",
           "2024-09-26T18:58:19",
           [
            "Rrs"
           ],
           34.2107,
           -119.6304
          ],
          [
           "2024-09-26T18:10:04",
           "2024-09-26T18:58:19",
           [
            "Rrs"
           ],
           34.2107,
           -119.6304
          ],
          [
           "2024-09-26T19:02:47",
           "2024-09-26T19:28:06",
           [
            "Rrs"
           ],
           34.21,
           -119.6259
          ],
          [
           "2024-09-26T19:02:47",
           "2024-09-26T19:28:06",
           [
            "Rrs"
           ],
           34.21,
           -119.6259
          ],
          [
           "2024-09-26T20:16:54",
           "2024-09-26T20:21:04",
           [
            "Rrs"
           ],
           34.3376,
           -119.6487
          ],
          [
           "2024-09-26T20:16:54",
           "2024-09-26T20:21:04",
           [
            "Rrs"
           ],
           34.3376,
           -119.6487
          ],
          [
           "2024-09-26T21:02:53",
           "2024-09-26T21:45:29",
           [
            "Rrs"
           ],
           34.3399,
           -119.6408
          ],
          [
           "2024-09-26T21:02:53",
           "2024-09-26T21:45:29",
           [
            "Rrs"
           ],
           34.3399,
           -119.6408
          ],
          [
           "2024-09-22T19:25:00",
           "2024-09-22T19:27:00",
           [
            "Rrs"
           ],
           33.6812,
           -119.5549
          ],
          [
           "2024-09-22T20:34:00",
           "2024-09-22T20:36:00",
           [
            "Rrs"
           ],
           33.6205,
           -119.4627
          ],
          [
           "2024-09-23T18:05:00",
           "2024-09-23T18:07:00",
           [
            "Rrs"
           ],
           34.2948,
           -119.8589
          ],
          [
           "2024-09-23T20:08:00",
           "2024-09-23T20:10:00",
           [
            "Rrs"
           ],
           34.2141,
           -119.5824
          ],
          [
           "2024-09-25T19:36:00",
           "2024-09-25T19:38:00",
           [
            "Rrs"
           ],
           34.1149,
           -119.6825
          ],
          [
           "2024-09-25T20:28:00",
           "2024-09-25T20:30:00",
           [
            "Rrs"
           ],
           34.1033,
           -119.6423
          ],
          [
           "2024-09-25T21:56:00",
           "2024-09-25T21:58:00",
           [
            "Rrs"
           ],
           34.1872,
           -119.6993
          ],
          [
           "2024-09-25T23:07:00",
           "2024-09-25T23:09:00",
           [
            "Rrs"
           ],
           34.3099,
           -119.6848
          ],
          [
           "2024-09-26T17:06:00",
           "2024-09-26T17:08:00",
           [
            "Rrs"
           ],
           34.189,
           -119.6278
          ],
          [
           "2024-09-26T19:37:00",
           "2024-09-26T19:39:00",
           [
            "Rrs"
           ],
           34.2105,
           -119.6287
          ],
          [
           "2024-09-26T20:22:00",
           "2024-09-26T20:24:00",
           [
            "Rrs"
           ],
           34.3406,
           -119.6475
          ]
         ],
         "geo": "geo",
         "hovertemplate": "<b>%{hovertext}</b><br><br>Start_Datetime=%{customdata[0]}<br>End_Datetime=%{customdata[1]}<br>Data_Type=%{customdata[2]}<extra></extra>",
         "hovertext": [
          "PACE-PAX_Shearwater_2024_GER_St_30.sb",
          "PACE-PAX_Shearwater_2024_GER_St_31.sb",
          "PACE-PAX_Shearwater_2024_GER_St_32.sb",
          "PACE-PAX_Shearwater_2024_GER_St_33.sb",
          "PACE-PAX_Shearwater_2024_GER_St_34.sb",
          "PACE-PAX_Shearwater_2024_GER_St_35.sb",
          "PACE-PAX_Shearwater_2024_GER_St_36.sb",
          "PACE-PAX_Shearwater_2024_GER_St_37.sb",
          "PACE-PAX_Shearwater_2024_GER_St_38.sb",
          "PACE-PAX_Shearwater_2024_GER_St_39.sb",
          "PACE-PAX_Shearwater_2024_GER_St_40.sb",
          "PACE-PAX_PACE_PAX_Shearwater_RV_Shearwater_HyperSAS_20240922_162240_L2_Rrs_L11_R1.sb",
          "PACE-PAX_PACE_PAX_Shearwater_RV_Shearwater_HyperSAS_20240922_162240_L2_Rrs_R1.sb",
          "PACE-PAX_PACE_PAX_Shearwater_RV_Shearwater_HyperSAS_20240922_173334_L2_Rrs_L11_R1.sb",
          "PACE-PAX_PACE_PAX_Shearwater_RV_Shearwater_HyperSAS_20240922_173334_L2_Rrs_R1.sb",
          "PACE-PAX_PACE_PAX_Shearwater_RV_Shearwater_HyperSAS_20240922_182220_L2_Rrs_L11_STATION_30_0_R1.sb",
          "PACE-PAX_PACE_PAX_Shearwater_RV_Shearwater_HyperSAS_20240922_182220_L2_Rrs_STATION_30_0_R1.sb",
          "PACE-PAX_PACE_PAX_Shearwater_RV_Shearwater_HyperSAS_20240922_214955_L2_Rrs_L11_R1.sb",
          "PACE-PAX_PACE_PAX_Shearwater_RV_Shearwater_HyperSAS_20240922_214955_L2_Rrs_R1.sb",
          "PACE-PAX_PACE_PAX_Shearwater_RV_Shearwater_HyperSAS_20240922_220845_L2_Rrs_L11_R1.sb",
          "PACE-PAX_PACE_PAX_Shearwater_RV_Shearwater_HyperSAS_20240922_220845_L2_Rrs_R1.sb",
          "PACE-PAX_PACE_PAX_Shearwater_RV_Shearwater_HyperSAS_20240922_230720_L2_Rrs_L11_R1.sb",
          "PACE-PAX_PACE_PAX_Shearwater_RV_Shearwater_HyperSAS_20240922_230720_L2_Rrs_R1.sb",
          "PACE-PAX_PACE_PAX_Shearwater_RV_Shearwater_HyperSAS_20240923_164634_L2_Rrs_L11_STATION_32_0_R1.sb",
          "PACE-PAX_PACE_PAX_Shearwater_RV_Shearwater_HyperSAS_20240923_164634_L2_Rrs_STATION_32_0_R1.sb",
          "PACE-PAX_PACE_PAX_Shearwater_RV_Shearwater_HyperSAS_20240923_171058_L2_Rrs_L11_R1.sb",
          "PACE-PAX_PACE_PAX_Shearwater_RV_Shearwater_HyperSAS_20240923_171058_L2_Rrs_R1.sb",
          "PACE-PAX_PACE_PAX_Shearwater_RV_Shearwater_HyperSAS_20240923_181818_L2_Rrs_L11_R1.sb",
          "PACE-PAX_PACE_PAX_Shearwater_RV_Shearwater_HyperSAS_20240923_181818_L2_Rrs_R1.sb",
          "PACE-PAX_PACE_PAX_Shearwater_RV_Shearwater_HyperSAS_20240923_190425_L2_Rrs_L11_R1.sb",
          "PACE-PAX_PACE_PAX_Shearwater_RV_Shearwater_HyperSAS_20240923_190425_L2_Rrs_R1.sb",
          "PACE-PAX_PACE_PAX_Shearwater_RV_Shearwater_HyperSAS_20240923_200121_L2_Rrs_L11_R1.sb",
          "PACE-PAX_PACE_PAX_Shearwater_RV_Shearwater_HyperSAS_20240923_200121_L2_Rrs_R1.sb",
          "PACE-PAX_PACE_PAX_Shearwater_RV_Shearwater_HyperSAS_20240923_211138_L2_Rrs_L11_R1.sb",
          "PACE-PAX_PACE_PAX_Shearwater_RV_Shearwater_HyperSAS_20240923_211138_L2_Rrs_R1.sb",
          "PACE-PAX_PACE_PAX_Shearwater_RV_Shearwater_HyperSAS_20240925_184003_L2_Rrs_L11_R1.sb",
          "PACE-PAX_PACE_PAX_Shearwater_RV_Shearwater_HyperSAS_20240925_184003_L2_Rrs_L11_STATION_34_0_R1.sb",
          "PACE-PAX_PACE_PAX_Shearwater_RV_Shearwater_HyperSAS_20240925_184003_L2_Rrs_R1.sb",
          "PACE-PAX_PACE_PAX_Shearwater_RV_Shearwater_HyperSAS_20240925_184003_L2_Rrs_STATION_34_0_R1.sb",
          "PACE-PAX_PACE_PAX_Shearwater_RV_Shearwater_HyperSAS_20240925_190215_L2_Rrs_L11_R1.sb",
          "PACE-PAX_PACE_PAX_Shearwater_RV_Shearwater_HyperSAS_20240925_190215_L2_Rrs_R1.sb",
          "PACE-PAX_PACE_PAX_Shearwater_RV_Shearwater_HyperSAS_20240925_200743_L2_Rrs_L11_R1.sb",
          "PACE-PAX_PACE_PAX_Shearwater_RV_Shearwater_HyperSAS_20240925_200743_L2_Rrs_R1.sb",
          "PACE-PAX_PACE_PAX_Shearwater_RV_Shearwater_HyperSAS_20240925_215041_L2_Rrs_L11_STATION_36_0_R1.sb",
          "PACE-PAX_PACE_PAX_Shearwater_RV_Shearwater_HyperSAS_20240925_215041_L2_Rrs_STATION_36_0_R1.sb",
          "PACE-PAX_PACE_PAX_Shearwater_RV_Shearwater_HyperSAS_20240925_220135_L2_Rrs_L11_STATION_36_0_R1.sb",
          "PACE-PAX_PACE_PAX_Shearwater_RV_Shearwater_HyperSAS_20240925_220135_L2_Rrs_STATION_36_0_R1.sb",
          "PACE-PAX_PACE_PAX_Shearwater_RV_Shearwater_HyperSAS_20240925_231105_L2_Rrs_L11_STATION_37_0_R1.sb",
          "PACE-PAX_PACE_PAX_Shearwater_RV_Shearwater_HyperSAS_20240925_231105_L2_Rrs_STATION_37_0_R1.sb",
          "PACE-PAX_PACE_PAX_Shearwater_RV_Shearwater_HyperSAS_20240926_163437_L2_Rrs_L11_STATION_38_0_R1.sb",
          "PACE-PAX_PACE_PAX_Shearwater_RV_Shearwater_HyperSAS_20240926_163437_L2_Rrs_STATION_38_0_R1.sb",
          "PACE-PAX_PACE_PAX_Shearwater_RV_Shearwater_HyperSAS_20240926_173431_L2_Rrs_L11_STATION_39_0_R1.sb",
          "PACE-PAX_PACE_PAX_Shearwater_RV_Shearwater_HyperSAS_20240926_173431_L2_Rrs_STATION_39_0_R1.sb",
          "PACE-PAX_PACE_PAX_Shearwater_RV_Shearwater_HyperSAS_20240926_181004_L2_Rrs_L11_R1.sb",
          "PACE-PAX_PACE_PAX_Shearwater_RV_Shearwater_HyperSAS_20240926_181004_L2_Rrs_R1.sb",
          "PACE-PAX_PACE_PAX_Shearwater_RV_Shearwater_HyperSAS_20240926_190247_L2_Rrs_L11_R1.sb",
          "PACE-PAX_PACE_PAX_Shearwater_RV_Shearwater_HyperSAS_20240926_190247_L2_Rrs_R1.sb",
          "PACE-PAX_PACE_PAX_Shearwater_RV_Shearwater_HyperSAS_20240926_201654_L2_Rrs_L11_STATION_40_0_R1.sb",
          "PACE-PAX_PACE_PAX_Shearwater_RV_Shearwater_HyperSAS_20240926_201654_L2_Rrs_STATION_40_0_R1.sb",
          "PACE-PAX_PACE_PAX_Shearwater_RV_Shearwater_HyperSAS_20240926_210253_L2_Rrs_L11_R1.sb",
          "PACE-PAX_PACE_PAX_Shearwater_RV_Shearwater_HyperSAS_20240926_210253_L2_Rrs_R1.sb",
          "PVST_POL_PACE-PAX_Shearwater_above_water_radiometry_nflh_NRL_20240922_St_30_R1.sb",
          "PVST_POL_PACE-PAX_Shearwater_above_water_radiometry_nflh_NRL_20240922_St_31_R1.sb",
          "PVST_POL_PACE-PAX_Shearwater_above_water_radiometry_nflh_NRL_20240923_St_32_R1.sb",
          "PVST_POL_PACE-PAX_Shearwater_above_water_radiometry_nflh_NRL_20240923_St_33_R1.sb",
          "PVST_POL_PACE-PAX_Shearwater_above_water_radiometry_nflh_NRL_20240925_St_34_R1.sb",
          "PVST_POL_PACE-PAX_Shearwater_above_water_radiometry_nflh_NRL_20240925_St_35_R1.sb",
          "PVST_POL_PACE-PAX_Shearwater_above_water_radiometry_nflh_NRL_20240925_St_36_R1.sb",
          "PVST_POL_PACE-PAX_Shearwater_above_water_radiometry_nflh_NRL_20240925_St_37_R1.sb",
          "PVST_POL_PACE-PAX_Shearwater_above_water_radiometry_nflh_NRL_20240926_St_38_R1.sb",
          "PVST_POL_PACE-PAX_Shearwater_above_water_radiometry_nflh_NRL_20240926_St_39_R1.sb",
          "PVST_POL_PACE-PAX_Shearwater_above_water_radiometry_nflh_NRL_20240926_St_40_R1.sb"
         ],
         "lat": {
          "bdata": "gQTFjzHXQECBlUOLbM9AQC9uowG8JUFAbAn5oGcbQUC7Jw8LtQ5BQKHWNO84DUFA1edqK/YXQUDkg57NqidBQNV46SYxGEFAbef7qfEaQUBBguLHmCtBQPkP6bevG0FA+Q/pt68bQUCBBMWPMe9AQIEExY8x70BAHqfoSC7XQEAep+hILtdAQBWMSuoE1EBAFYxK6gTUQECDUUmdgN5AQINRSZ2A3kBAu7iNBvD+QEC7uI0G8P5AQBKDwMqhJUFAEoPAyqElQUAu/yH99iVBQC7/If32JUFAWDm0yHYmQUBYObTIdiZBQFvTvOMUHUFAW9O84xQdQUCXkA96NhtBQJeQD3o2G0FAB/AWSFA0QUAH8BZIUDRBQAIrhxbZDkFAAiuHFtkOQUACK4cW2Q5BQAIrhxbZDkFASgwCK4cOQUBKDAIrhw5BQCKOdXEbDUFAIo51cRsNQUC6awn5oBdBQLprCfmgF0FAx0s3iUEYQUDHSzeJQRhBQKs+V1uxJ0FAqz5XW7EnQUBxGw3gLRhBQHEbDeAtGEFAXwfOGVEaQUBfB84ZURpBQDSitDf4GkFANKK0N/gaQUB7FK5H4RpBQHsUrkfhGkFAl5APejYrQUCXkA96NitBQIj029eBK0FAiPTb14ErQUCBBMWPMddAQIGVQ4tsz0BAL26jAbwlQUBsCfmgZxtBQLsnDwu1DkFAodY07zgNQUDV52or9hdBQOSDns2qJ0FA1XjpJjEYQUBt5/up8RpBQEGC4seYK0FA",
          "dtype": "f8"
         },
         "legendgroup": "",
         "lon": {
          "bdata": "OiNKe4PjXcD99nXgnN1dwDSitDf49l3AMEymCkblXcBI4XoUrutdwCKOdXEb6V3A8IXJVMHsXcBAE2HD0+tdwHEbDeAt6F3Asb/snjzoXcA9CtejcOldwIPAyqFF5l3Ag8DKoUXmXcBa9bnaiuFdwFr1udqK4V3AJJf/kH7jXcAkl/+QfuNdwGlv8IXJ3F3AaW/whcncXcDoaiv2l91dwOhqK/aX3V3A5dAi2/neXcDl0CLb+d5dwN5xio7k9l3A3nGKjuT2XcAJG55eKfddwAkbnl4p913AS+oENBH2XcBL6gQ0EfZdwLyWkA965l3AvJaQD3rmXcAgQfFjzOVdwCBB8WPM5V3AwFsgQfHrXcDAWyBB8etdwI/k8h/S613Aj+TyH9LrXcCP5PIf0utdwI/k8h/S613AFmpN847rXcAWak3zjutdwH6MuWsJ6V3Afoy5awnpXcAibHh6pexdwCJseHql7F3AseHplbLsXcCx4emVsuxdwN21hHzQ613A3bWEfNDrXcDc14FzRuhdwNzXgXNG6F3AB1+YTBXoXcAHX5hMFehdwH/ZPXlY6F3Af9k9eVjoXcBApN++DuhdwECk374O6F3AkzoBTYTpXcCTOgFNhOldwLfRAN4C6V3At9EA3gLpXcA6I0p7g+NdwP32deCc3V3ANKK0N/j2XcAwTKYKRuVdwEjhehSu613AIo51cRvpXcDwhclUwexdwEATYcPT613AcRsN4C3oXcCxv+yePOhdwD0K16Nw6V3A",
          "dtype": "f8"
         },
         "marker": {
          "color": "#636efa",
          "symbol": "circle"
         },
         "mode": "markers",
         "name": "",
         "showlegend": false,
         "type": "scattergeo"
        }
       ],
       "layout": {
        "geo": {
         "center": {},
         "domain": {
          "x": [
           0,
           1
          ],
          "y": [
           0,
           1
          ]
         },
         "projection": {
          "type": "natural earth"
         }
        },
        "legend": {
         "tracegroupgap": 0
        },
        "margin": {
         "t": 60
        },
        "template": {
         "data": {
          "bar": [
           {
            "error_x": {
             "color": "#2a3f5f"
            },
            "error_y": {
             "color": "#2a3f5f"
            },
            "marker": {
             "line": {
              "color": "#E5ECF6",
              "width": 0.5
             },
             "pattern": {
              "fillmode": "overlay",
              "size": 10,
              "solidity": 0.2
             }
            },
            "type": "bar"
           }
          ],
          "barpolar": [
           {
            "marker": {
             "line": {
              "color": "#E5ECF6",
              "width": 0.5
             },
             "pattern": {
              "fillmode": "overlay",
              "size": 10,
              "solidity": 0.2
             }
            },
            "type": "barpolar"
           }
          ],
          "carpet": [
           {
            "aaxis": {
             "endlinecolor": "#2a3f5f",
             "gridcolor": "white",
             "linecolor": "white",
             "minorgridcolor": "white",
             "startlinecolor": "#2a3f5f"
            },
            "baxis": {
             "endlinecolor": "#2a3f5f",
             "gridcolor": "white",
             "linecolor": "white",
             "minorgridcolor": "white",
             "startlinecolor": "#2a3f5f"
            },
            "type": "carpet"
           }
          ],
          "choropleth": [
           {
            "colorbar": {
             "outlinewidth": 0,
             "ticks": ""
            },
            "type": "choropleth"
           }
          ],
          "contour": [
           {
            "colorbar": {
             "outlinewidth": 0,
             "ticks": ""
            },
            "colorscale": [
             [
              0,
              "#0d0887"
             ],
             [
              0.1111111111111111,
              "#46039f"
             ],
             [
              0.2222222222222222,
              "#7201a8"
             ],
             [
              0.3333333333333333,
              "#9c179e"
             ],
             [
              0.4444444444444444,
              "#bd3786"
             ],
             [
              0.5555555555555556,
              "#d8576b"
             ],
             [
              0.6666666666666666,
              "#ed7953"
             ],
             [
              0.7777777777777778,
              "#fb9f3a"
             ],
             [
              0.8888888888888888,
              "#fdca26"
             ],
             [
              1,
              "#f0f921"
             ]
            ],
            "type": "contour"
           }
          ],
          "contourcarpet": [
           {
            "colorbar": {
             "outlinewidth": 0,
             "ticks": ""
            },
            "type": "contourcarpet"
           }
          ],
          "heatmap": [
           {
            "colorbar": {
             "outlinewidth": 0,
             "ticks": ""
            },
            "colorscale": [
             [
              0,
              "#0d0887"
             ],
             [
              0.1111111111111111,
              "#46039f"
             ],
             [
              0.2222222222222222,
              "#7201a8"
             ],
             [
              0.3333333333333333,
              "#9c179e"
             ],
             [
              0.4444444444444444,
              "#bd3786"
             ],
             [
              0.5555555555555556,
              "#d8576b"
             ],
             [
              0.6666666666666666,
              "#ed7953"
             ],
             [
              0.7777777777777778,
              "#fb9f3a"
             ],
             [
              0.8888888888888888,
              "#fdca26"
             ],
             [
              1,
              "#f0f921"
             ]
            ],
            "type": "heatmap"
           }
          ],
          "histogram": [
           {
            "marker": {
             "pattern": {
              "fillmode": "overlay",
              "size": 10,
              "solidity": 0.2
             }
            },
            "type": "histogram"
           }
          ],
          "histogram2d": [
           {
            "colorbar": {
             "outlinewidth": 0,
             "ticks": ""
            },
            "colorscale": [
             [
              0,
              "#0d0887"
             ],
             [
              0.1111111111111111,
              "#46039f"
             ],
             [
              0.2222222222222222,
              "#7201a8"
             ],
             [
              0.3333333333333333,
              "#9c179e"
             ],
             [
              0.4444444444444444,
              "#bd3786"
             ],
             [
              0.5555555555555556,
              "#d8576b"
             ],
             [
              0.6666666666666666,
              "#ed7953"
             ],
             [
              0.7777777777777778,
              "#fb9f3a"
             ],
             [
              0.8888888888888888,
              "#fdca26"
             ],
             [
              1,
              "#f0f921"
             ]
            ],
            "type": "histogram2d"
           }
          ],
          "histogram2dcontour": [
           {
            "colorbar": {
             "outlinewidth": 0,
             "ticks": ""
            },
            "colorscale": [
             [
              0,
              "#0d0887"
             ],
             [
              0.1111111111111111,
              "#46039f"
             ],
             [
              0.2222222222222222,
              "#7201a8"
             ],
             [
              0.3333333333333333,
              "#9c179e"
             ],
             [
              0.4444444444444444,
              "#bd3786"
             ],
             [
              0.5555555555555556,
              "#d8576b"
             ],
             [
              0.6666666666666666,
              "#ed7953"
             ],
             [
              0.7777777777777778,
              "#fb9f3a"
             ],
             [
              0.8888888888888888,
              "#fdca26"
             ],
             [
              1,
              "#f0f921"
             ]
            ],
            "type": "histogram2dcontour"
           }
          ],
          "mesh3d": [
           {
            "colorbar": {
             "outlinewidth": 0,
             "ticks": ""
            },
            "type": "mesh3d"
           }
          ],
          "parcoords": [
           {
            "line": {
             "colorbar": {
              "outlinewidth": 0,
              "ticks": ""
             }
            },
            "type": "parcoords"
           }
          ],
          "pie": [
           {
            "automargin": true,
            "type": "pie"
           }
          ],
          "scatter": [
           {
            "fillpattern": {
             "fillmode": "overlay",
             "size": 10,
             "solidity": 0.2
            },
            "type": "scatter"
           }
          ],
          "scatter3d": [
           {
            "line": {
             "colorbar": {
              "outlinewidth": 0,
              "ticks": ""
             }
            },
            "marker": {
             "colorbar": {
              "outlinewidth": 0,
              "ticks": ""
             }
            },
            "type": "scatter3d"
           }
          ],
          "scattercarpet": [
           {
            "marker": {
             "colorbar": {
              "outlinewidth": 0,
              "ticks": ""
             }
            },
            "type": "scattercarpet"
           }
          ],
          "scattergeo": [
           {
            "marker": {
             "colorbar": {
              "outlinewidth": 0,
              "ticks": ""
             }
            },
            "type": "scattergeo"
           }
          ],
          "scattergl": [
           {
            "marker": {
             "colorbar": {
              "outlinewidth": 0,
              "ticks": ""
             }
            },
            "type": "scattergl"
           }
          ],
          "scattermap": [
           {
            "marker": {
             "colorbar": {
              "outlinewidth": 0,
              "ticks": ""
             }
            },
            "type": "scattermap"
           }
          ],
          "scattermapbox": [
           {
            "marker": {
             "colorbar": {
              "outlinewidth": 0,
              "ticks": ""
             }
            },
            "type": "scattermapbox"
           }
          ],
          "scatterpolar": [
           {
            "marker": {
             "colorbar": {
              "outlinewidth": 0,
              "ticks": ""
             }
            },
            "type": "scatterpolar"
           }
          ],
          "scatterpolargl": [
           {
            "marker": {
             "colorbar": {
              "outlinewidth": 0,
              "ticks": ""
             }
            },
            "type": "scatterpolargl"
           }
          ],
          "scatterternary": [
           {
            "marker": {
             "colorbar": {
              "outlinewidth": 0,
              "ticks": ""
             }
            },
            "type": "scatterternary"
           }
          ],
          "surface": [
           {
            "colorbar": {
             "outlinewidth": 0,
             "ticks": ""
            },
            "colorscale": [
             [
              0,
              "#0d0887"
             ],
             [
              0.1111111111111111,
              "#46039f"
             ],
             [
              0.2222222222222222,
              "#7201a8"
             ],
             [
              0.3333333333333333,
              "#9c179e"
             ],
             [
              0.4444444444444444,
              "#bd3786"
             ],
             [
              0.5555555555555556,
              "#d8576b"
             ],
             [
              0.6666666666666666,
              "#ed7953"
             ],
             [
              0.7777777777777778,
              "#fb9f3a"
             ],
             [
              0.8888888888888888,
              "#fdca26"
             ],
             [
              1,
              "#f0f921"
             ]
            ],
            "type": "surface"
           }
          ],
          "table": [
           {
            "cells": {
             "fill": {
              "color": "#EBF0F8"
             },
             "line": {
              "color": "white"
             }
            },
            "header": {
             "fill": {
              "color": "#C8D4E3"
             },
             "line": {
              "color": "white"
             }
            },
            "type": "table"
           }
          ]
         },
         "layout": {
          "annotationdefaults": {
           "arrowcolor": "#2a3f5f",
           "arrowhead": 0,
           "arrowwidth": 1
          },
          "autotypenumbers": "strict",
          "coloraxis": {
           "colorbar": {
            "outlinewidth": 0,
            "ticks": ""
           }
          },
          "colorscale": {
           "diverging": [
            [
             0,
             "#8e0152"
            ],
            [
             0.1,
             "#c51b7d"
            ],
            [
             0.2,
             "#de77ae"
            ],
            [
             0.3,
             "#f1b6da"
            ],
            [
             0.4,
             "#fde0ef"
            ],
            [
             0.5,
             "#f7f7f7"
            ],
            [
             0.6,
             "#e6f5d0"
            ],
            [
             0.7,
             "#b8e186"
            ],
            [
             0.8,
             "#7fbc41"
            ],
            [
             0.9,
             "#4d9221"
            ],
            [
             1,
             "#276419"
            ]
           ],
           "sequential": [
            [
             0,
             "#0d0887"
            ],
            [
             0.1111111111111111,
             "#46039f"
            ],
            [
             0.2222222222222222,
             "#7201a8"
            ],
            [
             0.3333333333333333,
             "#9c179e"
            ],
            [
             0.4444444444444444,
             "#bd3786"
            ],
            [
             0.5555555555555556,
             "#d8576b"
            ],
            [
             0.6666666666666666,
             "#ed7953"
            ],
            [
             0.7777777777777778,
             "#fb9f3a"
            ],
            [
             0.8888888888888888,
             "#fdca26"
            ],
            [
             1,
             "#f0f921"
            ]
           ],
           "sequentialminus": [
            [
             0,
             "#0d0887"
            ],
            [
             0.1111111111111111,
             "#46039f"
            ],
            [
             0.2222222222222222,
             "#7201a8"
            ],
            [
             0.3333333333333333,
             "#9c179e"
            ],
            [
             0.4444444444444444,
             "#bd3786"
            ],
            [
             0.5555555555555556,
             "#d8576b"
            ],
            [
             0.6666666666666666,
             "#ed7953"
            ],
            [
             0.7777777777777778,
             "#fb9f3a"
            ],
            [
             0.8888888888888888,
             "#fdca26"
            ],
            [
             1,
             "#f0f921"
            ]
           ]
          },
          "colorway": [
           "#636efa",
           "#EF553B",
           "#00cc96",
           "#ab63fa",
           "#FFA15A",
           "#19d3f3",
           "#FF6692",
           "#B6E880",
           "#FF97FF",
           "#FECB52"
          ],
          "font": {
           "color": "#2a3f5f"
          },
          "geo": {
           "bgcolor": "white",
           "lakecolor": "white",
           "landcolor": "#E5ECF6",
           "showlakes": true,
           "showland": true,
           "subunitcolor": "white"
          },
          "hoverlabel": {
           "align": "left"
          },
          "hovermode": "closest",
          "mapbox": {
           "style": "light"
          },
          "paper_bgcolor": "white",
          "plot_bgcolor": "#E5ECF6",
          "polar": {
           "angularaxis": {
            "gridcolor": "white",
            "linecolor": "white",
            "ticks": ""
           },
           "bgcolor": "#E5ECF6",
           "radialaxis": {
            "gridcolor": "white",
            "linecolor": "white",
            "ticks": ""
           }
          },
          "scene": {
           "xaxis": {
            "backgroundcolor": "#E5ECF6",
            "gridcolor": "white",
            "gridwidth": 2,
            "linecolor": "white",
            "showbackground": true,
            "ticks": "",
            "zerolinecolor": "white"
           },
           "yaxis": {
            "backgroundcolor": "#E5ECF6",
            "gridcolor": "white",
            "gridwidth": 2,
            "linecolor": "white",
            "showbackground": true,
            "ticks": "",
            "zerolinecolor": "white"
           },
           "zaxis": {
            "backgroundcolor": "#E5ECF6",
            "gridcolor": "white",
            "gridwidth": 2,
            "linecolor": "white",
            "showbackground": true,
            "ticks": "",
            "zerolinecolor": "white"
           }
          },
          "shapedefaults": {
           "line": {
            "color": "#2a3f5f"
           }
          },
          "ternary": {
           "aaxis": {
            "gridcolor": "white",
            "linecolor": "white",
            "ticks": ""
           },
           "baxis": {
            "gridcolor": "white",
            "linecolor": "white",
            "ticks": ""
           },
           "bgcolor": "#E5ECF6",
           "caxis": {
            "gridcolor": "white",
            "linecolor": "white",
            "ticks": ""
           }
          },
          "title": {
           "x": 0.05
          },
          "xaxis": {
           "automargin": true,
           "gridcolor": "white",
           "linecolor": "white",
           "ticks": "",
           "title": {
            "standoff": 15
           },
           "zerolinecolor": "white",
           "zerolinewidth": 2
          },
          "yaxis": {
           "automargin": true,
           "gridcolor": "white",
           "linecolor": "white",
           "ticks": "",
           "title": {
            "standoff": 15
           },
           "zerolinecolor": "white",
           "zerolinewidth": 2
          }
         }
        }
       }
      }
     },
     "metadata": {},
     "output_type": "display_data"
    }
   ],
   "source": [
    "fig = px.scatter_geo(\n",
    "    summary_df,\n",
    "    lat='Lat',\n",
    "    lon='Lon',\n",
    "    hover_name='Data_File_Name',\n",
    "    hover_data={\n",
    "        'Start_Datetime': True,\n",
    "        'End_Datetime': True,\n",
    "        'Data_Type': True,\n",
    "        'Lat': False,\n",
    "        'Lon': False\n",
    "    },\n",
    "    projection='natural earth'\n",
    ")\n",
    "\n",
    "fig.show()"
   ]
  },
  {
   "cell_type": "code",
   "execution_count": null,
   "id": "590f63f1-c468-470a-a709-6d0fa806b85f",
   "metadata": {},
   "outputs": [],
   "source": []
  }
 ],
 "metadata": {
  "kernelspec": {
   "display_name": "Python 3 (ipykernel)",
   "language": "python",
   "name": "python3"
  },
  "language_info": {
   "codemirror_mode": {
    "name": "ipython",
    "version": 3
   },
   "file_extension": ".py",
   "mimetype": "text/x-python",
   "name": "python",
   "nbconvert_exporter": "python",
   "pygments_lexer": "ipython3",
   "version": "3.11.11"
  }
 },
 "nbformat": 4,
 "nbformat_minor": 5
}
