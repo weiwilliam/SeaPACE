{
 "cells": [
  {
   "cell_type": "markdown",
   "id": "e036d723-11b1-492e-afbc-65b706d052f9",
   "metadata": {},
   "source": [
    "# SeaPACE tool\n",
    "1. Select Study time + area / datasets (Currently PACE-PAX Aug 28 to Sep 30, 2024)\n",
    "2. Confirm the match-up\n",
    "3. Showing true color image and overlap of available datasets\n",
    "4. Rrs plot\n",
    "5. Selecting Subset of data"
   ]
  },
  {
   "cell_type": "markdown",
   "id": "1c77f30d-c286-49f0-b3e7-c7e564177967",
   "metadata": {},
   "source": []
  }
 ],
 "metadata": {
  "kernelspec": {
   "display_name": "Python 3 (ipykernel)",
   "language": "python",
   "name": "python3"
  },
  "language_info": {
   "codemirror_mode": {
    "name": "ipython",
    "version": 3
   },
   "file_extension": ".py",
   "mimetype": "text/x-python",
   "name": "python",
   "nbconvert_exporter": "python",
   "pygments_lexer": "ipython3",
   "version": "3.11.11"
  }
 },
 "nbformat": 4,
 "nbformat_minor": 5
}
