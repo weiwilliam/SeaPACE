{
 "cells": [
  {
   "cell_type": "markdown",
   "id": "e036d723-11b1-492e-afbc-65b706d052f9",
   "metadata": {},
   "source": [
    "# SeaPACE tool\n",
    "1. Select Study time + area / datasets (Currently PACE-PAX Aug 28 to Sep 30, 2024)\n",
    "2. Confirm the match-up\n",
    "3. Showing true color image and overlap of available datasets\n",
    "4. Rrs plot\n",
    "5. Selecting Subset of data"
   ]
  },
  {
   "cell_type": "code",
   "execution_count": 1,
   "id": "52c9a04f-7f5b-47f7-85f7-4f10b8ab888e",
   "metadata": {},
   "outputs": [
    {
     "name": "stdout",
     "output_type": "stream",
     "text": [
      "Collecting owslib\n",
      "  Using cached owslib-0.34.1-py3-none-any.whl.metadata (6.9 kB)\n",
      "Collecting lxml (from owslib)\n",
      "  Using cached lxml-6.0.0-cp311-cp311-manylinux_2_27_x86_64.manylinux_2_28_x86_64.whl.metadata (6.6 kB)\n",
      "Requirement already satisfied: python-dateutil in /srv/conda/envs/notebook/lib/python3.11/site-packages (from owslib) (2.9.0.post0)\n",
      "Requirement already satisfied: pyyaml in /srv/conda/envs/notebook/lib/python3.11/site-packages (from owslib) (6.0.2)\n",
      "Requirement already satisfied: requests in /srv/conda/envs/notebook/lib/python3.11/site-packages (from owslib) (2.32.3)\n",
      "Requirement already satisfied: six>=1.5 in /srv/conda/envs/notebook/lib/python3.11/site-packages (from python-dateutil->owslib) (1.17.0)\n",
      "Requirement already satisfied: charset_normalizer<4,>=2 in /srv/conda/envs/notebook/lib/python3.11/site-packages (from requests->owslib) (3.4.1)\n",
      "Requirement already satisfied: idna<4,>=2.5 in /srv/conda/envs/notebook/lib/python3.11/site-packages (from requests->owslib) (3.10)\n",
      "Requirement already satisfied: urllib3<3,>=1.21.1 in /srv/conda/envs/notebook/lib/python3.11/site-packages (from requests->owslib) (2.3.0)\n",
      "Requirement already satisfied: certifi>=2017.4.17 in /srv/conda/envs/notebook/lib/python3.11/site-packages (from requests->owslib) (2024.12.14)\n",
      "Using cached owslib-0.34.1-py3-none-any.whl (240 kB)\n",
      "Using cached lxml-6.0.0-cp311-cp311-manylinux_2_27_x86_64.manylinux_2_28_x86_64.whl (5.2 MB)\n",
      "Installing collected packages: lxml, owslib\n",
      "Successfully installed lxml-6.0.0 owslib-0.34.1\n",
      "Note: you may need to restart the kernel to use updated packages.\n",
      "Requirement already satisfied: lxml in /srv/conda/envs/notebook/lib/python3.11/site-packages (6.0.0)\n",
      "Note: you may need to restart the kernel to use updated packages.\n"
     ]
    }
   ],
   "source": [
    "%pip install owslib\n",
    "%pip install lxml"
   ]
  },
  {
   "cell_type": "code",
   "execution_count": null,
   "id": "38d42325-ae52-4306-a4a0-52b569c045bf",
   "metadata": {},
   "outputs": [],
   "source": []
  },
  {
   "cell_type": "code",
   "execution_count": null,
   "id": "2e333c7e-501c-4ad7-ae39-65d688987126",
   "metadata": {},
   "outputs": [],
   "source": [
    "import holoviews as hv\n",
    "from holoviews.streams import Tap\n",
    "import matplotlib.pyplot as plt\n",
    "import pandas as pd\n",
    "import functions as fc\n",
    "from step1 import get_OCI_PACE_truecolor"
   ]
  },
  {
   "cell_type": "code",
   "execution_count": null,
   "id": "8b07c837-1f35-45d2-b25e-4fff80147277",
   "metadata": {},
   "outputs": [],
   "source": [
    "#\n",
    "#  Main configuration\n",
    "#\n",
    "\n",
    "# Specify the interest period, bounding box\n",
    "tspan = (\"2024-09-22\", \"2024-09-28\")\n",
    "bbox = (-125., 32., -116., 38.)\n",
    "\n",
    "SeaBass_path = \"/home/jovyan/shared-public/pace-hackweek/SeePACE/Hackweek_PACE-PAX_09_22-28\"  # SeaBass sb files (CCNY, GSFC)\n",
    "base_PACE_file = \"PACE_OCI_L2_AOP\"  # Rrs"
   ]
  },
  {
   "cell_type": "code",
   "execution_count": null,
   "id": "cfd334d4-79f5-44d5-89b9-4f33ff6acb46",
   "metadata": {},
   "outputs": [],
   "source": [
    "# Reading available SeaBass files and create dots on the worldview image\n",
    "\n",
    "dates = fc.get_dates(tspan[0], tspan[1], 24)"
   ]
  },
  {
   "cell_type": "code",
   "execution_count": null,
   "id": "a93a88af-c35d-4bf7-b933-ca7f267d86af",
   "metadata": {},
   "outputs": [],
   "source": [
    "imglist = []\n",
    "for date in dates:\n",
    "    img = get_OCI_PACE_truecolor(date.strftime('%Y-%m-%d'), bbox)\n",
    "    imglist.append(img)"
   ]
  },
  {
   "cell_type": "code",
   "execution_count": null,
   "id": "eae353a1-ff9b-4c49-bcba-38fdd176e4ed",
   "metadata": {},
   "outputs": [],
   "source": []
  }
 ],
 "metadata": {
  "kernelspec": {
   "display_name": "Python 3 (ipykernel)",
   "language": "python",
   "name": "python3"
  },
  "language_info": {
   "codemirror_mode": {
    "name": "ipython",
    "version": 3
   },
   "file_extension": ".py",
   "mimetype": "text/x-python",
   "name": "python",
   "nbconvert_exporter": "python",
   "pygments_lexer": "ipython3",
   "version": "3.11.11"
  }
 },
 "nbformat": 4,
 "nbformat_minor": 5
}
