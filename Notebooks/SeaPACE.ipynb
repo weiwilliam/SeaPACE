{
 "cells": [
  {
   "cell_type": "markdown",
   "id": "e036d723-11b1-492e-afbc-65b706d052f9",
   "metadata": {},
   "source": [
    "# SeaPACE tool\n",
    "1. Select Study time + area / datasets (Currently PACE-PAX Aug 28 to Sep 30, 2024)\n",
    "2. Confirm the match-up\n",
    "3. Showing true color image and overlap of available datasets\n",
    "4. Rrs plot\n",
    "5. Selecting Subset of data"
   ]
  },
  {
   "cell_type": "markdown",
   "id": "b5e49b96-8609-4afa-b322-85cbde2bf8f5",
   "metadata": {},
   "source": [
    "%pip install owslib\n",
    "%pip install lxml"
   ]
  },
  {
   "cell_type": "code",
   "execution_count": 5,
   "id": "2e333c7e-501c-4ad7-ae39-65d688987126",
   "metadata": {},
   "outputs": [],
   "source": [
    "# Imports\n",
    "\n",
    "import fsspec\n",
    "import tarfile\n",
    "import earthaccess\n",
    "\n",
    "import holoviews as hv\n",
    "from holoviews.streams import Tap\n",
    "import matplotlib.pyplot as plt\n",
    "import pandas as pd\n",
    "import functions as fc\n",
    "from step1 import get_OCI_PACE_truecolor"
   ]
  },
  {
   "cell_type": "code",
   "execution_count": 9,
   "id": "96e53597-71de-4529-ae40-27405bbfd678",
   "metadata": {},
   "outputs": [],
   "source": [
    "# Confirm your Earth Access login credentials\n",
    "\n",
    "auth = earthaccess.login(strategy=\"interactive\", persist=True)\n",
    "session = auth.get_session()"
   ]
  },
  {
   "cell_type": "markdown",
   "id": "9f22a417-c124-4e37-92d0-e6882c8419bf",
   "metadata": {},
   "source": [
    "____________________________________________________________________\n",
    "\n",
    "## Step 1 - Download SeaBASS datafiles\n",
    "\n",
    "##### After selecting your study region and time period, as well as your desired datatypes, request the data from SeaBASS\n",
    "\n",
    "##### Use the .https link sent to download your data\n"
   ]
  },
  {
   "cell_type": "code",
   "execution_count": 20,
   "id": "3cc0984e-77bc-485d-9db1-2ea24e7d7a10",
   "metadata": {},
   "outputs": [
    {
     "name": "stdout",
     "output_type": "stream",
     "text": [
      "✅ Done (extracted all readable members)!\n"
     ]
    }
   ],
   "source": [
    "import earthaccess\n",
    "import tarfile\n",
    "from requests.adapters import HTTPAdapter\n",
    "from urllib3.util.retry import Retry\n",
    "\n",
    "# 1. Authenticate with Earthdata\n",
    "auth    = earthaccess.login(strategy=\"interactive\", persist=True)\n",
    "session = auth.get_session()\n",
    "\n",
    "# 2. Optional: retry adapter for transient HTTP errors\n",
    "retries = Retry(total=5, backoff_factor=1, status_forcelist=[502, 503, 504])\n",
    "session.mount(\"https://\", HTTPAdapter(max_retries=retries))\n",
    "\n",
    "# 3. Your NASA “getfile” URL\n",
    "url = (\n",
    "    \"https://oceandata.sci.gsfc.nasa.gov/cgi/getfile/\"\n",
    "    \"requested_files_1.tar?h=ocdist404\"\n",
    "    \"&p=/data1/00a0126131968662/requested_files\"\n",
    ")\n",
    "\n",
    "# 4. Stream into tarfile, disable length enforcement, and extract member-by-member\n",
    "with session.get(url, stream=True, timeout=(5, 120)) as r:\n",
    "    r.raise_for_status()\n",
    "\n",
    "    # Let urllib3 ignore any mismatch between header and actual bytes\n",
    "    r.raw.decode_content = True\n",
    "    if hasattr(r.raw, \"enforce_content_length\"):\n",
    "        r.raw.enforce_content_length = False\n",
    "\n",
    "    # Open the stream as a TarFile, then extract each member in turn\n",
    "    tar = tarfile.open(fileobj=r.raw, mode=\"r|*\")\n",
    "    for member in tar:\n",
    "        try:\n",
    "            tar.extract(member, path=\"C:/Users/hunte/Downloads\")\n",
    "        except tarfile.ReadError as e:\n",
    "            # Skip any files that really are truncated\n",
    "            print(f\"⚠️  Skipping '{member.name}' due to unexpected end of data\")\n",
    "    tar.close()\n",
    "\n",
    "print(\"✅ Done (extracted all readable members)!\")\n"
   ]
  },
  {
   "cell_type": "markdown",
   "id": "fde335ec-638d-4fcb-83db-676e78fed8a9",
   "metadata": {},
   "source": [
    "______________________________________________________\n",
    "\n",
    "## Step 2: "
   ]
  },
  {
   "cell_type": "code",
   "execution_count": 6,
   "id": "8b07c837-1f35-45d2-b25e-4fff80147277",
   "metadata": {},
   "outputs": [],
   "source": [
    "#\n",
    "#  Main configuration\n",
    "#\n",
    "\n",
    "# Specify the interest period, bounding box\n",
    "tspan = (\"2024-09-22\", \"2024-09-28\")\n",
    "bbox = (-125., 32., -116., 38.)\n",
    "\n",
    "SeaBass_path = \"/home/jovyan/shared-public/pace-hackweek/SeePACE/Hackweek_PACE-PAX_Rrs\"  # SeaBass sb files (CCNY, GSFC, NRL, UCSB)\n",
    "\n",
    "base_PACE_file = \"PACE_OCI_L2_AOP\"  # Rrs"
   ]
  },
  {
   "cell_type": "code",
   "execution_count": null,
   "id": "cfd334d4-79f5-44d5-89b9-4f33ff6acb46",
   "metadata": {},
   "outputs": [],
   "source": [
    "# Reading available SeaBass files and create dots on the worldview image\n",
    "\n",
    "dates = fc.get_dates(tspan[0], tspan[1], 24)"
   ]
  },
  {
   "cell_type": "code",
   "execution_count": null,
   "id": "a93a88af-c35d-4bf7-b933-ca7f267d86af",
   "metadata": {},
   "outputs": [],
   "source": [
    "imglist = []\n",
    "for date in dates:\n",
    "    img = get_OCI_PACE_truecolor(date.strftime('%Y-%m-%d'), bbox)\n",
    "    imglist.append(img)"
   ]
  },
  {
   "cell_type": "code",
   "execution_count": null,
   "id": "eae353a1-ff9b-4c49-bcba-38fdd176e4ed",
   "metadata": {},
   "outputs": [],
   "source": []
  }
 ],
 "metadata": {
  "kernelspec": {
   "display_name": "Python 3 (ipykernel)",
   "language": "python",
   "name": "python3"
  },
  "language_info": {
   "codemirror_mode": {
    "name": "ipython",
    "version": 3
   },
   "file_extension": ".py",
   "mimetype": "text/x-python",
   "name": "python",
   "nbconvert_exporter": "python",
   "pygments_lexer": "ipython3",
   "version": "3.11.11"
  }
 },
 "nbformat": 4,
 "nbformat_minor": 5
}
